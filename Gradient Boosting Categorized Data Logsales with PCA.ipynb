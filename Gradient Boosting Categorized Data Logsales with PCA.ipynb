{
 "cells": [
  {
   "cell_type": "code",
   "execution_count": 4,
   "id": "89c4c047",
   "metadata": {},
   "outputs": [],
   "source": [
    "import pandas as pd\n",
    "import numpy as np\n",
    "import matplotlib.pyplot as plt\n",
    "from sklearn.metrics import mean_squared_error\n",
    "from sklearn.preprocessing import StandardScaler\n",
    "from sklearn.model_selection import KFold\n",
    "from sklearn.ensemble import GradientBoostingRegressor\n",
    "from sklearn.decomposition import PCA\n",
    "from sklearn.model_selection import train_test_split"
   ]
  },
  {
   "cell_type": "markdown",
   "id": "45dd49da",
   "metadata": {},
   "source": [
    "# Data Processing"
   ]
  },
  {
   "cell_type": "code",
   "execution_count": 5,
   "id": "8689fe48",
   "metadata": {},
   "outputs": [],
   "source": [
    "train_X =pd.read_csv('train_X_cat.csv',index_col = 0)\n",
    "train_y_sales =pd.read_csv('train_y_sales.csv')\n",
    "train_y_sales = train_y_sales.sales\n",
    "train_y_logsales =pd.read_csv('train_y_logsales.csv',index_col = 0)\n",
    "train_y_logsales = train_y_logsales.sales"
   ]
  },
  {
   "cell_type": "markdown",
   "id": "9c51047e",
   "metadata": {},
   "source": [
    "# Model Definition (Function)"
   ]
  },
  {
   "cell_type": "markdown",
   "id": "88bab838",
   "metadata": {},
   "source": [
    "Function is created to do k-fold (k=10) on the training data set based on different hyperparameters. Hyperparameters include the learning rate, n estimators, and PCA components. PCA, which is an unsupervised learning, is included for this model building."
   ]
  },
  {
   "cell_type": "code",
   "execution_count": 3,
   "id": "4e953e63",
   "metadata": {},
   "outputs": [],
   "source": [
    "from sklearn.model_selection import KFold\n",
    "def Data_MSE(X,Y,k,alpha,n,c):\n",
    "    test_mse = []\n",
    "    kf = KFold(n_splits=k)\n",
    "    pca=PCA(n_components=c)\n",
    "    pca.fit(X)\n",
    "    X_pca = pca.transform(X)\n",
    "    for train_index, test_index in kf.split(X_pca):\n",
    "        X_train, X_test = X.iloc[train_index], X.iloc[test_index]\n",
    "        y_train, y_test = Y.iloc[train_index], Y.iloc[test_index]\n",
    "\n",
    "        gbr = GradientBoostingRegressor(learning_rate=alpha, n_estimators=n, random_state = 8)\n",
    "        gbr.fit(X_train, y_train)\n",
    "        \n",
    "        y_pred = gbr.predict(X_test)\n",
    "        mse = mean_squared_error(np.exp(y_test), np.exp(y_pred))\n",
    "        test_mse.append(mse)\n",
    "\n",
    "    return np.mean(test_mse)"
   ]
  },
  {
   "cell_type": "markdown",
   "id": "3b84dbc9",
   "metadata": {},
   "source": [
    "# Finding best hyperparameter"
   ]
  },
  {
   "cell_type": "code",
   "execution_count": 4,
   "id": "5a0fc406",
   "metadata": {},
   "outputs": [],
   "source": [
    "alpha = [0.001,0.01,0.1,1]\n",
    "n_est = [10,100,1000]\n",
    "components = [2,3,4,5,6,7,8,9]\n",
    "MSE_logsales = []\n",
    "for i in alpha:\n",
    "    for r in n_est:\n",
    "        for c in components:\n",
    "            MSE_logsales.append([i,r,c,Data_MSE(train_X, train_y_logsales,10,i,r,c)])"
   ]
  },
  {
   "cell_type": "code",
   "execution_count": 5,
   "id": "7523c988",
   "metadata": {},
   "outputs": [
    {
     "data": {
      "text/plain": [
       "[0.1, 1000, 2, 861.9283467509513]"
      ]
     },
     "execution_count": 5,
     "metadata": {},
     "output_type": "execute_result"
    }
   ],
   "source": [
    "length = len(MSE_logsales)\n",
    "minimum = 100000\n",
    "best = [0,0,0]\n",
    "for i in range(length):\n",
    "    if MSE_logsales[i][3] < minimum:\n",
    "        minimum = MSE_logsales[i][3]\n",
    "        best = MSE_logsales[i]\n",
    "best"
   ]
  },
  {
   "cell_type": "markdown",
   "id": "541c6f53",
   "metadata": {},
   "source": [
    "The value just happen to be the same as the model without PCA"
   ]
  },
  {
   "cell_type": "code",
   "execution_count": 6,
   "id": "0fc409d9",
   "metadata": {},
   "outputs": [
    {
     "data": {
      "text/plain": [
       "[861.9283467509513,\n",
       " 865.7243649379336,\n",
       " 984.4036402185538,\n",
       " 1034.718170239858,\n",
       " 884.2942344010298,\n",
       " 1165.4048266326736,\n",
       " 1875.3227167696004,\n",
       " 1549.7255122856748,\n",
       " 1445.2728576988366,\n",
       " 2106.5672490608185]"
      ]
     },
     "execution_count": 6,
     "metadata": {},
     "output_type": "execute_result"
    }
   ],
   "source": [
    "# Based on the previous results, the best parameters are\n",
    "# learning_rate = 0.1\n",
    "# n_estimators = 1000\n",
    "# pca_components = 2\n",
    "# This step will determine the best learning within the range of the learning rate found\n",
    "alpha_logsales = [0.1,0.2,0.3,0.4,0.5,0.6,0.7,0.8,0.9,1]\n",
    "MSE_logsales = []\n",
    "for i in alpha_logsales:\n",
    "    MSE_logsales.append(Data_MSE(train_X, train_y_logsales,10,i,1000,2))\n",
    "MSE_logsales"
   ]
  },
  {
   "cell_type": "code",
   "execution_count": 7,
   "id": "3146876f",
   "metadata": {
    "scrolled": true
   },
   "outputs": [
    {
     "data": {
      "image/png": "[encoded data removed]",
      "text/plain": [
       "<Figure size 640x480 with 1 Axes>"
      ]
     },
     "metadata": {},
     "output_type": "display_data"
    }
   ],
   "source": [
    "# Plotting the MSE values for the alpha values tested\n",
    "plt.plot(alpha_logsales,MSE_logsales)\n",
    "plt.show()"
   ]
  },
  {
   "cell_type": "code",
   "execution_count": 8,
   "id": "692ce2af",
   "metadata": {},
   "outputs": [
    {
     "name": "stdout",
     "output_type": "stream",
     "text": [
      "0.1 861.9283467509513\n"
     ]
    }
   ],
   "source": [
    "print(alpha_logsales[np.argmin(MSE_logsales)],MSE_logsales[np.argmin(MSE_logsales)])"
   ]
  },
  {
   "cell_type": "markdown",
   "id": "b7c2575b",
   "metadata": {},
   "source": [
    "Hence the best hyperparameter is:\n",
    "\n",
    "1. Learning rate = 0.1\n",
    "2. n estimator = 1000\n",
    "3. PCA components = 2\n",
    "\n",
    "Best MSE = 861.9283467509513"
   ]
  },
  {
   "cell_type": "code",
   "execution_count": 9,
   "id": "5def20f8",
   "metadata": {},
   "outputs": [
    {
     "data": {
      "text/plain": [
       "50.58915275654718"
      ]
     },
     "execution_count": 9,
     "metadata": {},
     "output_type": "execute_result"
    }
   ],
   "source": [
    "# Using the entire training data set to train the model for predicting\n",
    "pca=PCA(n_components=5)\n",
    "pca.fit(train_X)\n",
    "train_X_pca = pca.transform(train_X)\n",
    "gbr = GradientBoostingRegressor(learning_rate=0.1, n_estimators=1000, random_state = 8)\n",
    "gbr.fit(train_X_pca, train_y_logsales)\n",
    "\n",
    "# Testing the MSE of the new model using only training data\n",
    "y_pred = gbr.predict(train_X_pca)\n",
    "mse = mean_squared_error(np.exp(train_y_logsales), np.exp(y_pred)) \n",
    "mse"
   ]
  },
  {
   "cell_type": "markdown",
   "id": "d72cdb5a",
   "metadata": {},
   "source": [
    "# Inventory Decision\n",
    "Model processing for inventory decision"
   ]
  },
  {
   "cell_type": "code",
   "execution_count": 6,
   "id": "561cb509",
   "metadata": {},
   "outputs": [],
   "source": [
    "from sklearn.model_selection import train_test_split\n",
    "pca=PCA(n_components=2)\n",
    "pca.fit(train_X)\n",
    "X_pca = pca.transform(train_X)\n",
    "X_train1,X_test1,Y_train1,Y_test1 = train_test_split(X_pca,train_y_logsales,test_size=0.2, randdom_state=8)\n",
    "\n",
    "#Retraining the model using the the best hyperparameters determined, random state fixed at 8\n",
    "Model = GradientBoostingRegressor(learning_rate=0.1, n_estimators=1000,random_state = 8)\n",
    "Model.fit(X_train1,Y_train1.values.ravel())\n",
    "result = pd.DataFrame(Y_test1)\n",
    "result['predicted sales'] = Model.predict(X_test1)\n",
    "\n",
    "#Calculation of residual\n",
    "resid = np.exp(result['sales']) - np.exp(result['predicted sales'])"
   ]
  },
  {
   "cell_type": "code",
   "execution_count": 7,
   "id": "2b2ebeea",
   "metadata": {},
   "outputs": [],
   "source": [
    "# finding the critical fractile for the residual distribution\n",
    "price = 20\n",
    "cost = 12\n",
    "salvage = 8\n",
    "Overage_cost = cost - salvage\n",
    "Underage_cost = price - cost\n",
    "critical_fractile = Underage_cost/(Overage_cost + Underage_cost)"
   ]
  },
  {
   "cell_type": "markdown",
   "id": "7eb28497",
   "metadata": {},
   "source": [
    "# QQ Plot\n",
    "Using QQ plot to determine the distribution of the residual of the prediction of the model."
   ]
  },
  {
   "cell_type": "code",
   "execution_count": 8,
   "id": "95d2b400",
   "metadata": {},
   "outputs": [],
   "source": [
    "import scipy\n",
    "import scipy.stats as sct"
   ]
  },
  {
   "cell_type": "code",
   "execution_count": 9,
   "id": "ce4311ac",
   "metadata": {},
   "outputs": [
    {
     "data": {
      "image/png": "[encoded data removed]",
      "text/plain": [
       "<Figure size 640x480 with 1 Axes>"
      ]
     },
     "metadata": {},
     "output_type": "display_data"
    }
   ],
   "source": [
    "#Normal distribution\n",
    "scipy.stats.probplot(resid, dist=\"norm\", plot=plt)\n",
    "plt.show()"
   ]
  },
  {
   "cell_type": "code",
   "execution_count": 10,
   "id": "733e78af",
   "metadata": {},
   "outputs": [
    {
     "data": {
      "text/plain": [
       "12      32.0\n",
       "567     51.0\n",
       "931     16.0\n",
       "1560    43.0\n",
       "251     14.0\n",
       "        ... \n",
       "1303    34.0\n",
       "21      18.0\n",
       "129     17.0\n",
       "1260    15.0\n",
       "356     17.0\n",
       "Name: predicted sales, Length: 316, dtype: float64"
      ]
     },
     "execution_count": 10,
     "metadata": {},
     "output_type": "execute_result"
    }
   ],
   "source": [
    "# To find the values, it is the sum of the mean and the standard deviation multipled \n",
    "# by the standard normal distribution of the critical fractile\n",
    "norm_std = resid.std()\n",
    "demand_values_normal=round(sct.norm.ppf(critical_fractile)*norm_std + np.exp(result['predicted sales']))\n",
    "demand_values_normal"
   ]
  },
  {
   "cell_type": "code",
   "execution_count": 11,
   "id": "fe51d271",
   "metadata": {},
   "outputs": [
    {
     "data": {
      "image/png": "[encoded data removed]",
      "text/plain": [
       "<Figure size 640x480 with 1 Axes>"
      ]
     },
     "metadata": {},
     "output_type": "display_data"
    }
   ],
   "source": [
    "# Exponential Distribution\n",
    "scipy.stats.probplot(resid, dist=\"expon\", plot=plt)\n",
    "plt.show()"
   ]
  },
  {
   "cell_type": "code",
   "execution_count": 12,
   "id": "33efefe0",
   "metadata": {},
   "outputs": [
    {
     "data": {
      "text/plain": [
       "12      21.0\n",
       "567     41.0\n",
       "931      2.0\n",
       "1560    32.0\n",
       "251      1.0\n",
       "        ... \n",
       "1303    23.0\n",
       "21       6.0\n",
       "129      4.0\n",
       "1260     2.0\n",
       "356      4.0\n",
       "Name: predicted sales, Length: 316, dtype: float64"
      ]
     },
     "execution_count": 12,
     "metadata": {},
     "output_type": "execute_result"
    }
   ],
   "source": [
    "# to find the demand values for exponential, require to use the inverse of the exponential distribution\n",
    "demand_values_exp = round(-(np.exp(result['predicted sales']))*np.log(1-critical_fractile))\n",
    "demand_values_exp"
   ]
  },
  {
   "cell_type": "code",
   "execution_count": 13,
   "id": "e6f85fef",
   "metadata": {},
   "outputs": [
    {
     "data": {
      "text/plain": [
       "[<matplotlib.lines.Line2D at 0x1669c05c790>]"
      ]
     },
     "execution_count": 13,
     "metadata": {},
     "output_type": "execute_result"
    },
    {
     "data": {
      "image/png": "[encoded data removed]",
      "text/plain": [
       "<Figure size 640x480 with 1 Axes>"
      ]
     },
     "metadata": {},
     "output_type": "display_data"
    }
   ],
   "source": [
    "# Empirical Distribution\n",
    "steps = 1/resid.shape[0]\n",
    "jump = [steps*i for i in range(1,resid.shape[0]+1)]\n",
    "samples = sorted(resid)\n",
    "plt.plot(samples,jump)"
   ]
  },
  {
   "cell_type": "code",
   "execution_count": 14,
   "id": "26f5a3f4",
   "metadata": {},
   "outputs": [
    {
     "data": {
      "image/png": "[encoded data removed]",
      "text/plain": [
       "<Figure size 640x480 with 1 Axes>"
      ]
     },
     "metadata": {},
     "output_type": "display_data"
    }
   ],
   "source": [
    "plt.hist(samples)\n",
    "plt.show()"
   ]
  },
  {
   "cell_type": "code",
   "execution_count": 15,
   "id": "2370643f",
   "metadata": {},
   "outputs": [],
   "source": [
    "# Finding the inverse of the empricial distribution based on the critical fractile\n",
    "def inv_of_dis(sample, jump, crit):\n",
    "    current_step = 0\n",
    "    checking_value = jump[current_step]\n",
    "    while checking_value < crit:\n",
    "        current_step += 1\n",
    "        checking_value = jump[current_step]\n",
    "    return sample[current_step]"
   ]
  },
  {
   "cell_type": "code",
   "execution_count": 16,
   "id": "95c39170",
   "metadata": {},
   "outputs": [
    {
     "data": {
      "text/plain": [
       "12      20.825397\n",
       "567     39.696514\n",
       "931      4.413630\n",
       "1560    31.524738\n",
       "251      3.373807\n",
       "          ...    \n",
       "1303    22.831742\n",
       "21       7.396025\n",
       "129      5.490125\n",
       "1260     4.329420\n",
       "356      5.753240\n",
       "Name: predicted sales, Length: 316, dtype: float64"
      ]
     },
     "execution_count": 16,
     "metadata": {},
     "output_type": "execute_result"
    }
   ],
   "source": [
    "demand_values_em = np.exp(result['predicted sales']) + inv_of_dis(samples, jump, critical_fractile)\n",
    "demand_values_em"
   ]
  },
  {
   "cell_type": "markdown",
   "id": "2e2a0d0d",
   "metadata": {},
   "source": [
    "# Out-of-Sample Profit"
   ]
  },
  {
   "cell_type": "code",
   "execution_count": 17,
   "id": "97d32c96",
   "metadata": {},
   "outputs": [
    {
     "data": {
      "text/plain": [
       "89320.0"
      ]
     },
     "execution_count": 17,
     "metadata": {},
     "output_type": "execute_result"
    }
   ],
   "source": [
    "# Finding the max profit based on the test set.\n",
    "# No salvage as all products will be sold\n",
    "max_profit = np.exp(result['sales']).sum()*(price-cost)\n",
    "max_profit"
   ]
  },
  {
   "cell_type": "code",
   "execution_count": 18,
   "id": "54d6faca",
   "metadata": {},
   "outputs": [],
   "source": [
    "#Finding profit for the different distributions for the residual\n",
    "# Create a profit function.\n",
    "def profit(demand,y):\n",
    "    return (price-salvage)*np.minimum(demand,y) - (cost-salvage)*y\n",
    "\n",
    "# For this, demand will take on the actual sales while y will take on the predicted sales"
   ]
  },
  {
   "cell_type": "code",
   "execution_count": 19,
   "id": "bf8c4293",
   "metadata": {},
   "outputs": [
    {
     "data": {
      "text/plain": [
       "64700.0"
      ]
     },
     "execution_count": 19,
     "metadata": {},
     "output_type": "execute_result"
    }
   ],
   "source": [
    "# no distribution included\n",
    "np.sum(profit(np.exp(result['sales']),round(np.exp(result['predicted sales']))))"
   ]
  },
  {
   "cell_type": "code",
   "execution_count": 20,
   "id": "e577abde",
   "metadata": {},
   "outputs": [
    {
     "data": {
      "text/plain": [
       "60068.0"
      ]
     },
     "execution_count": 20,
     "metadata": {},
     "output_type": "execute_result"
    }
   ],
   "source": [
    "# normal distribution included\n",
    "np.sum(profit(np.exp(result['sales']),round(demand_values_normal)))"
   ]
  },
  {
   "cell_type": "code",
   "execution_count": 21,
   "id": "5f68eadc",
   "metadata": {},
   "outputs": [
    {
     "data": {
      "text/plain": [
       "67240.0"
      ]
     },
     "execution_count": 21,
     "metadata": {},
     "output_type": "execute_result"
    }
   ],
   "source": [
    "# exponential distribution included\n",
    "np.sum(profit(np.exp(result['sales']),round(demand_values_exp)))"
   ]
  },
  {
   "cell_type": "code",
   "execution_count": 22,
   "id": "8ee4a98a",
   "metadata": {},
   "outputs": [
    {
     "data": {
      "text/plain": [
       "65388.0"
      ]
     },
     "execution_count": 22,
     "metadata": {},
     "output_type": "execute_result"
    }
   ],
   "source": [
    "# empricial distribution included\n",
    "np.sum(profit(np.exp(result['sales']),round(demand_values_em)))"
   ]
  },
  {
   "cell_type": "markdown",
   "id": "0d7b29c6",
   "metadata": {},
   "source": [
    "# K Fold Cross Validation for the Inventory Decision"
   ]
  },
  {
   "cell_type": "code",
   "execution_count": 27,
   "id": "416e92a1",
   "metadata": {},
   "outputs": [],
   "source": [
    "def K_fold_inventory_decision(X,Y,k):\n",
    "    best_profit = []\n",
    "    profit_non = []\n",
    "    profit_normal = []\n",
    "    profit_exp = []\n",
    "    profit_em = []\n",
    "    kf = KFold(n_splits=k)\n",
    "    pca=PCA(n_components=2)\n",
    "    pca.fit(X)\n",
    "    X_pca = pca.transform(X)\n",
    "    for train_index, test_index in kf.split(X):\n",
    "        X_train, X_test = X.iloc[train_index], X.iloc[test_index]\n",
    "        y_train, y_test = Y.iloc[train_index], Y.iloc[test_index]\n",
    "        \n",
    "        #Retraining the model\n",
    "        Model = GradientBoostingRegressor(learning_rate=0.2, n_estimators=1000,random_state = 8)\n",
    "        Model.fit(X_train,y_train.values.ravel())\n",
    "        \n",
    "        result = pd.DataFrame(y_test)\n",
    "        result['predicted sales'] = Model.predict(X_test)\n",
    "        \n",
    "        #Calculation of residual\n",
    "        resid = np.exp(result['sales']) - np.exp(result['predicted sales'])\n",
    "        \n",
    "        # Testing normal distribution for residual\n",
    "        norm_std = resid.std()\n",
    "        demand_values_normal=round(sct.norm.ppf(critical_fractile)*norm_std + np.exp(result['predicted sales']))\n",
    "        \n",
    "        # Testing exponential distribution for residual\n",
    "        demand_values_exp = round(-(np.exp(result['predicted sales']))*np.log(1-critical_fractile))\n",
    "        \n",
    "        # Testing empirical distribution for residual\n",
    "        steps = 1/resid.shape[0]\n",
    "        jump = [steps*i for i in range(1,resid.shape[0]+1)]\n",
    "        samples = sorted(resid)\n",
    "        demand_values_em = np.exp(result['predicted sales']) + inv_of_dis(samples, jump, critical_fractile)\n",
    "        \n",
    "        max_profit = np.exp(result['sales']).sum()*(price-cost)\n",
    "        best_profit.append(max_profit)\n",
    "        \n",
    "        profit_non.append(np.sum(profit(np.exp(result['sales']),round(np.exp(result['predicted sales'])))))\n",
    "        profit_normal.append(np.sum(profit(np.exp(result['sales']),round(demand_values_normal))))\n",
    "        profit_exp.append(np.sum(profit(np.exp(result['sales']),round(demand_values_exp))))\n",
    "        profit_em.append(np.sum(profit(np.exp(result['sales']),round(demand_values_em))))\n",
    "    return best_profit, profit_non, profit_normal, profit_exp, profit_em"
   ]
  },
  {
   "cell_type": "code",
   "execution_count": 28,
   "id": "7b9a1026",
   "metadata": {},
   "outputs": [],
   "source": [
    "data = K_fold_inventory_decision(train_X,train_y_logsales,10)"
   ]
  },
  {
   "cell_type": "code",
   "execution_count": 29,
   "id": "7dd3b5fc",
   "metadata": {},
   "outputs": [
    {
     "name": "stdout",
     "output_type": "stream",
     "text": [
      "Max profit average 43742.4\n",
      "Profit with no distribution average 34742.0\n",
      "Profit with normal distribution average 31233.6\n",
      "Profit with exponential distribution average 35343.2\n",
      "Profit with empirical distribution average 34910.8\n"
     ]
    }
   ],
   "source": [
    "#Comparing different profits based on different distributions\n",
    "print(\"Max profit average\", np.average(data[0]))\n",
    "print(\"Profit with no distribution average\", np.average(data[1]))\n",
    "print(\"Profit with normal distribution average\", np.average(data[2]))\n",
    "print(\"Profit with exponential distribution average\", np.average(data[3]))\n",
    "print(\"Profit with empirical distribution average\", np.average(data[4]))"
   ]
  },
  {
   "cell_type": "markdown",
   "id": "f8439b7a",
   "metadata": {},
   "source": [
    "Based on the outcome of the k fold for inventory decision, the best distribution to model the residual of the sales is an exponential distribution as it is able to give the highest profit."
   ]
  },
  {
   "cell_type": "code",
   "execution_count": null,
   "id": "3cf5e0b1",
   "metadata": {},
   "outputs": [],
   "source": []
  }
 ],
 "metadata": {
  "kernelspec": {
   "display_name": "Python 3 (ipykernel)",
   "language": "python",
   "name": "python3"
  },
  "language_info": {
   "codemirror_mode": {
    "name": "ipython",
    "version": 3
   },
   "file_extension": ".py",
   "mimetype": "text/x-python",
   "name": "python",
   "nbconvert_exporter": "python",
   "pygments_lexer": "ipython3",
   "version": "3.11.5"
  }
 },
 "nbformat": 4,
 "nbformat_minor": 5
}
