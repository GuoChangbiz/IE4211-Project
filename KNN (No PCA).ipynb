{
 "cells": [
  {
   "cell_type": "code",
   "execution_count": 46,
   "id": "2717aa9c",
   "metadata": {},
   "outputs": [],
   "source": [
    "import pandas as pd\n",
    "import numpy as np\n",
    "import matplotlib.pyplot as plt\n",
    "from sklearn.pipeline import Pipeline\n",
    "from sklearn.model_selection import GridSearchCV\n",
    "from sklearn.decomposition import PCA\n",
    "from sklearn.metrics import mean_squared_error as MSE\n",
    "from sklearn.linear_model import LinearRegression\n",
    "from sklearn.preprocessing import PolynomialFeatures\n",
    "from sklearn.model_selection import train_test_split\n",
    "from sklearn.linear_model import Lasso\n",
    "from sklearn.neighbors import KNeighborsRegressor\n"
   ]
  },
  {
   "cell_type": "code",
   "execution_count": 47,
   "id": "64ca0041",
   "metadata": {},
   "outputs": [],
   "source": [
    "np.random.seed(42)"
   ]
  },
  {
   "cell_type": "markdown",
   "id": "8d5aed26",
   "metadata": {},
   "source": [
    "**1. Import the train datasets**"
   ]
  },
  {
   "cell_type": "code",
   "execution_count": 48,
   "id": "0b95c457",
   "metadata": {},
   "outputs": [],
   "source": [
    "X_train = pd.read_csv(\"Data-Train.csv\",index_col=0)\n",
    "Y_train = pd.read_csv(\"train_y_logsales.csv\",index_col=0)"
   ]
  },
  {
   "cell_type": "markdown",
   "id": "5f186043",
   "metadata": {},
   "source": [
    "\n",
    "**2. Setup Pipeline**"
   ]
  },
  {
   "cell_type": "code",
   "execution_count": 49,
   "id": "da24c4a1",
   "metadata": {},
   "outputs": [],
   "source": [
    "\n",
    "Model_1 = KNeighborsRegressor()\n",
    "RG = Model_1\n",
    "pipe = Pipeline(steps=[(\"RG\",RG)])\n",
    "param_grid = {\n",
    "    \"RG__n_neighbors\":[1,4,5,6,7,8,10]\n",
    "    \n",
    "}"
   ]
  },
  {
   "cell_type": "markdown",
   "id": "bd209c95",
   "metadata": {},
   "source": [
    "**3. Setup GridSearch**"
   ]
  },
  {
   "cell_type": "code",
   "execution_count": 50,
   "id": "bdac5018",
   "metadata": {},
   "outputs": [],
   "source": [
    "score_metric = 'neg_mean_squared_error'\n",
    "search = GridSearchCV(pipe,param_grid,\n",
    "                      n_jobs=-1,\n",
    "                      cv=10,\n",
    "                      scoring=score_metric)"
   ]
  },
  {
   "cell_type": "code",
   "execution_count": 51,
   "id": "51ca5f4a",
   "metadata": {},
   "outputs": [
    {
     "data": {
      "text/html": [
       "<style>#sk-container-id-4 {color: black;}#sk-container-id-4 pre{padding: 0;}#sk-container-id-4 div.sk-toggleable {background-color: white;}#sk-container-id-4 label.sk-toggleable__label {cursor: pointer;display: block;width: 100%;margin-bottom: 0;padding: 0.3em;box-sizing: border-box;text-align: center;}#sk-container-id-4 label.sk-toggleable__label-arrow:before {content: \"▸\";float: left;margin-right: 0.25em;color: #696969;}#sk-container-id-4 label.sk-toggleable__label-arrow:hover:before {color: black;}#sk-container-id-4 div.sk-estimator:hover label.sk-toggleable__label-arrow:before {color: black;}#sk-container-id-4 div.sk-toggleable__content {max-height: 0;max-width: 0;overflow: hidden;text-align: left;background-color: #f0f8ff;}#sk-container-id-4 div.sk-toggleable__content pre {margin: 0.2em;color: black;border-radius: 0.25em;background-color: #f0f8ff;}#sk-container-id-4 input.sk-toggleable__control:checked~div.sk-toggleable__content {max-height: 200px;max-width: 100%;overflow: auto;}#sk-container-id-4 input.sk-toggleable__control:checked~label.sk-toggleable__label-arrow:before {content: \"▾\";}#sk-container-id-4 div.sk-estimator input.sk-toggleable__control:checked~label.sk-toggleable__label {background-color: #d4ebff;}#sk-container-id-4 div.sk-label input.sk-toggleable__control:checked~label.sk-toggleable__label {background-color: #d4ebff;}#sk-container-id-4 input.sk-hidden--visually {border: 0;clip: rect(1px 1px 1px 1px);clip: rect(1px, 1px, 1px, 1px);height: 1px;margin: -1px;overflow: hidden;padding: 0;position: absolute;width: 1px;}#sk-container-id-4 div.sk-estimator {font-family: monospace;background-color: #f0f8ff;border: 1px dotted black;border-radius: 0.25em;box-sizing: border-box;margin-bottom: 0.5em;}#sk-container-id-4 div.sk-estimator:hover {background-color: #d4ebff;}#sk-container-id-4 div.sk-parallel-item::after {content: \"\";width: 100%;border-bottom: 1px solid gray;flex-grow: 1;}#sk-container-id-4 div.sk-label:hover label.sk-toggleable__label {background-color: #d4ebff;}#sk-container-id-4 div.sk-serial::before {content: \"\";position: absolute;border-left: 1px solid gray;box-sizing: border-box;top: 0;bottom: 0;left: 50%;z-index: 0;}#sk-container-id-4 div.sk-serial {display: flex;flex-direction: column;align-items: center;background-color: white;padding-right: 0.2em;padding-left: 0.2em;position: relative;}#sk-container-id-4 div.sk-item {position: relative;z-index: 1;}#sk-container-id-4 div.sk-parallel {display: flex;align-items: stretch;justify-content: center;background-color: white;position: relative;}#sk-container-id-4 div.sk-item::before, #sk-container-id-4 div.sk-parallel-item::before {content: \"\";position: absolute;border-left: 1px solid gray;box-sizing: border-box;top: 0;bottom: 0;left: 50%;z-index: -1;}#sk-container-id-4 div.sk-parallel-item {display: flex;flex-direction: column;z-index: 1;position: relative;background-color: white;}#sk-container-id-4 div.sk-parallel-item:first-child::after {align-self: flex-end;width: 50%;}#sk-container-id-4 div.sk-parallel-item:last-child::after {align-self: flex-start;width: 50%;}#sk-container-id-4 div.sk-parallel-item:only-child::after {width: 0;}#sk-container-id-4 div.sk-dashed-wrapped {border: 1px dashed gray;margin: 0 0.4em 0.5em 0.4em;box-sizing: border-box;padding-bottom: 0.4em;background-color: white;}#sk-container-id-4 div.sk-label label {font-family: monospace;font-weight: bold;display: inline-block;line-height: 1.2em;}#sk-container-id-4 div.sk-label-container {text-align: center;}#sk-container-id-4 div.sk-container {/* jupyter's `normalize.less` sets `[hidden] { display: none; }` but bootstrap.min.css set `[hidden] { display: none !important; }` so we also need the `!important` here to be able to override the default hidden behavior on the sphinx rendered scikit-learn.org. See: https://github.com/scikit-learn/scikit-learn/issues/21755 */display: inline-block !important;position: relative;}#sk-container-id-4 div.sk-text-repr-fallback {display: none;}</style><div id=\"sk-container-id-4\" class=\"sk-top-container\"><div class=\"sk-text-repr-fallback\"><pre>GridSearchCV(cv=10, estimator=Pipeline(steps=[(&#x27;RG&#x27;, KNeighborsRegressor())]),\n",
       "             n_jobs=-1, param_grid={&#x27;RG__n_neighbors&#x27;: [1, 4, 5, 6, 7, 8, 10]},\n",
       "             scoring=&#x27;neg_mean_squared_error&#x27;)</pre><b>In a Jupyter environment, please rerun this cell to show the HTML representation or trust the notebook. <br />On GitHub, the HTML representation is unable to render, please try loading this page with nbviewer.org.</b></div><div class=\"sk-container\" hidden><div class=\"sk-item sk-dashed-wrapped\"><div class=\"sk-label-container\"><div class=\"sk-label sk-toggleable\"><input class=\"sk-toggleable__control sk-hidden--visually\" id=\"sk-estimator-id-6\" type=\"checkbox\" ><label for=\"sk-estimator-id-6\" class=\"sk-toggleable__label sk-toggleable__label-arrow\">GridSearchCV</label><div class=\"sk-toggleable__content\"><pre>GridSearchCV(cv=10, estimator=Pipeline(steps=[(&#x27;RG&#x27;, KNeighborsRegressor())]),\n",
       "             n_jobs=-1, param_grid={&#x27;RG__n_neighbors&#x27;: [1, 4, 5, 6, 7, 8, 10]},\n",
       "             scoring=&#x27;neg_mean_squared_error&#x27;)</pre></div></div></div><div class=\"sk-parallel\"><div class=\"sk-parallel-item\"><div class=\"sk-item\"><div class=\"sk-label-container\"><div class=\"sk-label sk-toggleable\"><input class=\"sk-toggleable__control sk-hidden--visually\" id=\"sk-estimator-id-7\" type=\"checkbox\" ><label for=\"sk-estimator-id-7\" class=\"sk-toggleable__label sk-toggleable__label-arrow\">estimator: Pipeline</label><div class=\"sk-toggleable__content\"><pre>Pipeline(steps=[(&#x27;RG&#x27;, KNeighborsRegressor())])</pre></div></div></div><div class=\"sk-serial\"><div class=\"sk-item\"><div class=\"sk-serial\"><div class=\"sk-item\"><div class=\"sk-estimator sk-toggleable\"><input class=\"sk-toggleable__control sk-hidden--visually\" id=\"sk-estimator-id-8\" type=\"checkbox\" ><label for=\"sk-estimator-id-8\" class=\"sk-toggleable__label sk-toggleable__label-arrow\">KNeighborsRegressor</label><div class=\"sk-toggleable__content\"><pre>KNeighborsRegressor()</pre></div></div></div></div></div></div></div></div></div></div></div></div>"
      ],
      "text/plain": [
       "GridSearchCV(cv=10, estimator=Pipeline(steps=[('RG', KNeighborsRegressor())]),\n",
       "             n_jobs=-1, param_grid={'RG__n_neighbors': [1, 4, 5, 6, 7, 8, 10]},\n",
       "             scoring='neg_mean_squared_error')"
      ]
     },
     "execution_count": 51,
     "metadata": {},
     "output_type": "execute_result"
    }
   ],
   "source": [
    "search.fit(X_train,Y_train)"
   ]
  },
  {
   "cell_type": "code",
   "execution_count": 52,
   "id": "b46d2a01",
   "metadata": {},
   "outputs": [
    {
     "name": "stdout",
     "output_type": "stream",
     "text": [
      "Best parameter (CV score=-0.325):\n",
      "{'RG__n_neighbors': 5}\n"
     ]
    }
   ],
   "source": [
    "print(\"Best parameter (CV score=%0.3f):\" % search.best_score_)\n",
    "print(search.best_params_)"
   ]
  },
  {
   "cell_type": "code",
   "execution_count": 53,
   "id": "3742fba8",
   "metadata": {},
   "outputs": [
    {
     "data": {
      "text/html": [
       "<div>\n",
       "<style scoped>\n",
       "    .dataframe tbody tr th:only-of-type {\n",
       "        vertical-align: middle;\n",
       "    }\n",
       "\n",
       "    .dataframe tbody tr th {\n",
       "        vertical-align: top;\n",
       "    }\n",
       "\n",
       "    .dataframe thead th {\n",
       "        text-align: right;\n",
       "    }\n",
       "</style>\n",
       "<table border=\"1\" class=\"dataframe\">\n",
       "  <thead>\n",
       "    <tr style=\"text-align: right;\">\n",
       "      <th></th>\n",
       "      <th>mean_fit_time</th>\n",
       "      <th>std_fit_time</th>\n",
       "      <th>mean_score_time</th>\n",
       "      <th>std_score_time</th>\n",
       "      <th>param_RG__n_neighbors</th>\n",
       "      <th>params</th>\n",
       "      <th>split0_test_score</th>\n",
       "      <th>split1_test_score</th>\n",
       "      <th>split2_test_score</th>\n",
       "      <th>split3_test_score</th>\n",
       "      <th>split4_test_score</th>\n",
       "      <th>split5_test_score</th>\n",
       "      <th>split6_test_score</th>\n",
       "      <th>split7_test_score</th>\n",
       "      <th>split8_test_score</th>\n",
       "      <th>split9_test_score</th>\n",
       "      <th>mean_test_score</th>\n",
       "      <th>std_test_score</th>\n",
       "      <th>rank_test_score</th>\n",
       "    </tr>\n",
       "  </thead>\n",
       "  <tbody>\n",
       "    <tr>\n",
       "      <th>2</th>\n",
       "      <td>0.007839</td>\n",
       "      <td>0.003218</td>\n",
       "      <td>0.008346</td>\n",
       "      <td>0.001660</td>\n",
       "      <td>5</td>\n",
       "      <td>{'RG__n_neighbors': 5}</td>\n",
       "      <td>-0.359581</td>\n",
       "      <td>-0.276294</td>\n",
       "      <td>-0.398794</td>\n",
       "      <td>-0.272798</td>\n",
       "      <td>-0.367577</td>\n",
       "      <td>-0.340862</td>\n",
       "      <td>-0.284651</td>\n",
       "      <td>-0.304544</td>\n",
       "      <td>-0.295445</td>\n",
       "      <td>-0.344715</td>\n",
       "      <td>-0.324526</td>\n",
       "      <td>0.041364</td>\n",
       "      <td>1</td>\n",
       "    </tr>\n",
       "    <tr>\n",
       "      <th>6</th>\n",
       "      <td>0.007244</td>\n",
       "      <td>0.003049</td>\n",
       "      <td>0.007754</td>\n",
       "      <td>0.002803</td>\n",
       "      <td>10</td>\n",
       "      <td>{'RG__n_neighbors': 10}</td>\n",
       "      <td>-0.340461</td>\n",
       "      <td>-0.269577</td>\n",
       "      <td>-0.387311</td>\n",
       "      <td>-0.289259</td>\n",
       "      <td>-0.360343</td>\n",
       "      <td>-0.375798</td>\n",
       "      <td>-0.295314</td>\n",
       "      <td>-0.299461</td>\n",
       "      <td>-0.306538</td>\n",
       "      <td>-0.342630</td>\n",
       "      <td>-0.326669</td>\n",
       "      <td>0.038023</td>\n",
       "      <td>2</td>\n",
       "    </tr>\n",
       "    <tr>\n",
       "      <th>3</th>\n",
       "      <td>0.005630</td>\n",
       "      <td>0.004396</td>\n",
       "      <td>0.010254</td>\n",
       "      <td>0.002766</td>\n",
       "      <td>6</td>\n",
       "      <td>{'RG__n_neighbors': 6}</td>\n",
       "      <td>-0.355138</td>\n",
       "      <td>-0.278770</td>\n",
       "      <td>-0.397528</td>\n",
       "      <td>-0.287252</td>\n",
       "      <td>-0.371143</td>\n",
       "      <td>-0.348285</td>\n",
       "      <td>-0.289857</td>\n",
       "      <td>-0.301141</td>\n",
       "      <td>-0.298837</td>\n",
       "      <td>-0.364130</td>\n",
       "      <td>-0.329208</td>\n",
       "      <td>0.040305</td>\n",
       "      <td>3</td>\n",
       "    </tr>\n",
       "    <tr>\n",
       "      <th>5</th>\n",
       "      <td>0.005958</td>\n",
       "      <td>0.003961</td>\n",
       "      <td>0.008938</td>\n",
       "      <td>0.003329</td>\n",
       "      <td>8</td>\n",
       "      <td>{'RG__n_neighbors': 8}</td>\n",
       "      <td>-0.336635</td>\n",
       "      <td>-0.271887</td>\n",
       "      <td>-0.389757</td>\n",
       "      <td>-0.299724</td>\n",
       "      <td>-0.363200</td>\n",
       "      <td>-0.366281</td>\n",
       "      <td>-0.294045</td>\n",
       "      <td>-0.312380</td>\n",
       "      <td>-0.300880</td>\n",
       "      <td>-0.358952</td>\n",
       "      <td>-0.329374</td>\n",
       "      <td>0.036895</td>\n",
       "      <td>4</td>\n",
       "    </tr>\n",
       "    <tr>\n",
       "      <th>4</th>\n",
       "      <td>0.007571</td>\n",
       "      <td>0.003070</td>\n",
       "      <td>0.008176</td>\n",
       "      <td>0.002752</td>\n",
       "      <td>7</td>\n",
       "      <td>{'RG__n_neighbors': 7}</td>\n",
       "      <td>-0.340935</td>\n",
       "      <td>-0.278295</td>\n",
       "      <td>-0.396146</td>\n",
       "      <td>-0.294465</td>\n",
       "      <td>-0.373714</td>\n",
       "      <td>-0.363962</td>\n",
       "      <td>-0.289176</td>\n",
       "      <td>-0.305318</td>\n",
       "      <td>-0.303578</td>\n",
       "      <td>-0.365185</td>\n",
       "      <td>-0.331077</td>\n",
       "      <td>0.039618</td>\n",
       "      <td>5</td>\n",
       "    </tr>\n",
       "    <tr>\n",
       "      <th>1</th>\n",
       "      <td>0.007560</td>\n",
       "      <td>0.002718</td>\n",
       "      <td>0.165943</td>\n",
       "      <td>0.129911</td>\n",
       "      <td>4</td>\n",
       "      <td>{'RG__n_neighbors': 4}</td>\n",
       "      <td>-0.391376</td>\n",
       "      <td>-0.275143</td>\n",
       "      <td>-0.418187</td>\n",
       "      <td>-0.265753</td>\n",
       "      <td>-0.369271</td>\n",
       "      <td>-0.371801</td>\n",
       "      <td>-0.290169</td>\n",
       "      <td>-0.324366</td>\n",
       "      <td>-0.309921</td>\n",
       "      <td>-0.347936</td>\n",
       "      <td>-0.336392</td>\n",
       "      <td>0.048893</td>\n",
       "      <td>6</td>\n",
       "    </tr>\n",
       "    <tr>\n",
       "      <th>0</th>\n",
       "      <td>0.007561</td>\n",
       "      <td>0.002802</td>\n",
       "      <td>0.275663</td>\n",
       "      <td>0.010562</td>\n",
       "      <td>1</td>\n",
       "      <td>{'RG__n_neighbors': 1}</td>\n",
       "      <td>-0.432622</td>\n",
       "      <td>-0.379055</td>\n",
       "      <td>-0.617325</td>\n",
       "      <td>-0.439959</td>\n",
       "      <td>-0.523675</td>\n",
       "      <td>-0.439675</td>\n",
       "      <td>-0.389265</td>\n",
       "      <td>-0.470989</td>\n",
       "      <td>-0.407696</td>\n",
       "      <td>-0.492347</td>\n",
       "      <td>-0.459261</td>\n",
       "      <td>0.067693</td>\n",
       "      <td>7</td>\n",
       "    </tr>\n",
       "  </tbody>\n",
       "</table>\n",
       "</div>"
      ],
      "text/plain": [
       "   mean_fit_time  std_fit_time  mean_score_time  std_score_time  \\\n",
       "2       0.007839      0.003218         0.008346        0.001660   \n",
       "6       0.007244      0.003049         0.007754        0.002803   \n",
       "3       0.005630      0.004396         0.010254        0.002766   \n",
       "5       0.005958      0.003961         0.008938        0.003329   \n",
       "4       0.007571      0.003070         0.008176        0.002752   \n",
       "1       0.007560      0.002718         0.165943        0.129911   \n",
       "0       0.007561      0.002802         0.275663        0.010562   \n",
       "\n",
       "  param_RG__n_neighbors                   params  split0_test_score  \\\n",
       "2                     5   {'RG__n_neighbors': 5}          -0.359581   \n",
       "6                    10  {'RG__n_neighbors': 10}          -0.340461   \n",
       "3                     6   {'RG__n_neighbors': 6}          -0.355138   \n",
       "5                     8   {'RG__n_neighbors': 8}          -0.336635   \n",
       "4                     7   {'RG__n_neighbors': 7}          -0.340935   \n",
       "1                     4   {'RG__n_neighbors': 4}          -0.391376   \n",
       "0                     1   {'RG__n_neighbors': 1}          -0.432622   \n",
       "\n",
       "   split1_test_score  split2_test_score  split3_test_score  split4_test_score  \\\n",
       "2          -0.276294          -0.398794          -0.272798          -0.367577   \n",
       "6          -0.269577          -0.387311          -0.289259          -0.360343   \n",
       "3          -0.278770          -0.397528          -0.287252          -0.371143   \n",
       "5          -0.271887          -0.389757          -0.299724          -0.363200   \n",
       "4          -0.278295          -0.396146          -0.294465          -0.373714   \n",
       "1          -0.275143          -0.418187          -0.265753          -0.369271   \n",
       "0          -0.379055          -0.617325          -0.439959          -0.523675   \n",
       "\n",
       "   split5_test_score  split6_test_score  split7_test_score  split8_test_score  \\\n",
       "2          -0.340862          -0.284651          -0.304544          -0.295445   \n",
       "6          -0.375798          -0.295314          -0.299461          -0.306538   \n",
       "3          -0.348285          -0.289857          -0.301141          -0.298837   \n",
       "5          -0.366281          -0.294045          -0.312380          -0.300880   \n",
       "4          -0.363962          -0.289176          -0.305318          -0.303578   \n",
       "1          -0.371801          -0.290169          -0.324366          -0.309921   \n",
       "0          -0.439675          -0.389265          -0.470989          -0.407696   \n",
       "\n",
       "   split9_test_score  mean_test_score  std_test_score  rank_test_score  \n",
       "2          -0.344715        -0.324526        0.041364                1  \n",
       "6          -0.342630        -0.326669        0.038023                2  \n",
       "3          -0.364130        -0.329208        0.040305                3  \n",
       "5          -0.358952        -0.329374        0.036895                4  \n",
       "4          -0.365185        -0.331077        0.039618                5  \n",
       "1          -0.347936        -0.336392        0.048893                6  \n",
       "0          -0.492347        -0.459261        0.067693                7  "
      ]
     },
     "execution_count": 53,
     "metadata": {},
     "output_type": "execute_result"
    }
   ],
   "source": [
    "df = pd.DataFrame(search.cv_results_)\n",
    "df = df.sort_values(by=['rank_test_score'])\n",
    "df"
   ]
  },
  {
   "cell_type": "markdown",
   "id": "9b91ff2e",
   "metadata": {},
   "source": [
    "**4. Best Hyperparameter**"
   ]
  },
  {
   "cell_type": "code",
   "execution_count": 55,
   "id": "15b24727",
   "metadata": {},
   "outputs": [
    {
     "name": "stdout",
     "output_type": "stream",
     "text": [
      "{'RG__n_neighbors': 5}\n"
     ]
    }
   ],
   "source": [
    "parms = pd.DataFrame(df['params'])\n",
    "for i in parms.iloc[0]:\n",
    "    print(i)"
   ]
  },
  {
   "cell_type": "markdown",
   "id": "fb9147a0",
   "metadata": {},
   "source": [
    "**5. Evaluate Model Log(Sales)**"
   ]
  },
  {
   "cell_type": "code",
   "execution_count": 56,
   "id": "40585da1",
   "metadata": {},
   "outputs": [
    {
     "name": "stdout",
     "output_type": "stream",
     "text": [
      "Mean Squared Error scaled: 0.3286005150772502\n",
      "Mean Squared Error between true and predicted sales: 1275.155521716769\n"
     ]
    },
    {
     "name": "stderr",
     "output_type": "stream",
     "text": [
      "C:\\Users\\mi\\AppData\\Local\\Temp\\ipykernel_612\\3726132828.py:1: FutureWarning: Series.__getitem__ treating keys as positions is deprecated. In a future version, integer keys will always be treated as labels (consistent with DataFrame behavior). To access a value by position, use `ser.iloc[pos]`\n",
      "  best_n = parms.iloc[0][0]['RG__n_neighbors']\n"
     ]
    }
   ],
   "source": [
    "best_n = parms.iloc[0][0]['RG__n_neighbors']  \n",
    "\n",
    "# Instantiate the KNeighborsRegressor model with the best number of neighbors\n",
    "Model_2 = KNeighborsRegressor(n_neighbors=best_n)\n",
    "\n",
    "# Split the data into a training set and a test set\n",
    "X_train1, X_test1, Y_train1, Y_test1 = train_test_split(X_train, Y_train, test_size=0.2, random_state=132)\n",
    "\n",
    "# Fit the model on the training data\n",
    "RG1 = Model_2\n",
    "RG1.fit(X_train1, Y_train1)\n",
    "\n",
    "# Predict on the test data and calculate the MSE\n",
    "mse_value = mean_squared_error(Y_test1, RG1.predict(X_test1))\n",
    "print(f'Mean Squared Error scaled: {mse_value}')\n",
    "\n",
    "# Prepare a DataFrame to hold the true and predicted sales\n",
    "# Exponentiate the values if the sales have been log-transformed\n",
    "result = pd.DataFrame()\n",
    "result['True_sales'] = np.exp(Y_test1)  # Exponentiate if Y_train1 is log-transformed\n",
    "\n",
    "# Add the predicted sales to the DataFrame and exponentiate if the predictions are log-transformed\n",
    "result['Predicted_sales'] = np.exp(RG1.predict(X_test1))\n",
    "\n",
    "# Calculate the MSE between the true and predicted sales\n",
    "final_mse = mean_squared_error(result['True_sales'], result['Predicted_sales'])\n",
    "print(f'Mean Squared Error between true and predicted sales: {final_mse}')"
   ]
  },
  {
   "cell_type": "markdown",
   "id": "219bc861",
   "metadata": {},
   "source": [
    "**5.1 Model using original sales data**"
   ]
  },
  {
   "cell_type": "code",
   "execution_count": 57,
   "id": "e2478e06",
   "metadata": {},
   "outputs": [
    {
     "name": "stdout",
     "output_type": "stream",
     "text": [
      "Mean Squared Error on test data: 1401.85835443038\n"
     ]
    }
   ],
   "source": [
    "\n",
    "Model_3 = KNeighborsRegressor(n_neighbors=best_n)\n",
    "\n",
    "# Load the target variable from a CSV file\n",
    "OY_train = pd.read_csv(\"train_y_sales.csv\", index_col=0)\n",
    "\n",
    "# Split the data into training and testing sets\n",
    "X_train2, X_test2, Y_train2, Y_test2 = train_test_split(X_train, OY_train, test_size=0.2, random_state=132)\n",
    "\n",
    "# Instantiate the model with the best number of neighbors\n",
    "RG2 = Model_3\n",
    "\n",
    "# Fit the model on the training data\n",
    "RG2.fit(X_train2, Y_train2)\n",
    "\n",
    "# Predict on the test data\n",
    "Y_test2_pred = RG2.predict(X_test2)\n",
    "\n",
    "# Calculate the Mean Squared Error on the test data\n",
    "mse_value = mean_squared_error(Y_test2, Y_test2_pred)\n",
    "print(f'Mean Squared Error on test data: {mse_value}')"
   ]
  },
  {
   "cell_type": "code",
   "execution_count": null,
   "id": "26c22548",
   "metadata": {},
   "outputs": [],
   "source": []
  },
  {
   "cell_type": "code",
   "execution_count": null,
   "id": "45f3c738",
   "metadata": {},
   "outputs": [],
   "source": []
  },
  {
   "cell_type": "code",
   "execution_count": null,
   "id": "534e128c",
   "metadata": {},
   "outputs": [],
   "source": []
  },
  {
   "cell_type": "code",
   "execution_count": null,
   "id": "4dcbf077",
   "metadata": {},
   "outputs": [],
   "source": []
  }
 ],
 "metadata": {
  "kernelspec": {
   "display_name": "Python 3 (ipykernel)",
   "language": "python",
   "name": "python3"
  },
  "language_info": {
   "codemirror_mode": {
    "name": "ipython",
    "version": 3
   },
   "file_extension": ".py",
   "mimetype": "text/x-python",
   "name": "python",
   "nbconvert_exporter": "python",
   "pygments_lexer": "ipython3",
   "version": "3.10.9"
  }
 },
 "nbformat": 4,
 "nbformat_minor": 5
}
