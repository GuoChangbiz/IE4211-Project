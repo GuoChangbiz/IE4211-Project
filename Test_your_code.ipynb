{
 "cells": [
  {
   "cell_type": "code",
   "execution_count": 1,
   "id": "ed076d7c",
   "metadata": {},
   "outputs": [],
   "source": [
    "import pandas as pd\n",
    "import numpy as np"
   ]
  },
  {
   "cell_type": "code",
   "execution_count": 2,
   "id": "d263d361",
   "metadata": {},
   "outputs": [
    {
     "data": {
      "text/plain": [
       "1051"
      ]
     },
     "execution_count": 2,
     "metadata": {},
     "output_type": "execute_result"
    }
   ],
   "source": [
    "Data=pd.read_csv('group1.csv',index_col=0) \n",
    "## For your submission, change group42 to group##, where ## is your group number as in the google docs\n",
    "## Make sure that the group number contains two digist, for example group03 or group22\n",
    "\n",
    "len(Data)"
   ]
  },
  {
   "cell_type": "code",
   "execution_count": 3,
   "id": "892fd721",
   "metadata": {},
   "outputs": [
    {
     "data": {
      "text/plain": [
       "40.47983174604694"
      ]
     },
     "execution_count": 3,
     "metadata": {},
     "output_type": "execute_result"
    }
   ],
   "source": [
    "np.mean(Data.sales)"
   ]
  },
  {
   "cell_type": "code",
   "execution_count": 4,
   "id": "0349d690",
   "metadata": {},
   "outputs": [
    {
     "data": {
      "text/plain": [
       "44.47573739295909"
      ]
     },
     "execution_count": 4,
     "metadata": {},
     "output_type": "execute_result"
    }
   ],
   "source": [
    "np.mean(Data.inventory)"
   ]
  },
  {
   "cell_type": "code",
   "execution_count": 5,
   "id": "bcdc00ed",
   "metadata": {},
   "outputs": [],
   "source": [
    "if sum(Data.index==range(len(Data)))!=len(Data):\n",
    "    raise ValueError('The sequence of your file is incorrect')"
   ]
  },
  {
   "cell_type": "code",
   "execution_count": 6,
   "id": "bd50fb75",
   "metadata": {},
   "outputs": [
    {
     "name": "stdout",
     "output_type": "stream",
     "text": [
      "The format of your submission is correct.\n"
     ]
    }
   ],
   "source": [
    "if abs(sum(np.array(Data['clickVolume'])*np.array(range(len(Data))))-806454523.0)>0.5:\n",
    "    raise ValueError('The sequence of your file is incorrect')\n",
    "else:\n",
    "    print(\"The format of your submission is correct.\")"
   ]
  },
  {
   "cell_type": "code",
   "execution_count": null,
   "id": "e51fa2d8",
   "metadata": {},
   "outputs": [],
   "source": []
  }
 ],
 "metadata": {
  "kernelspec": {
   "display_name": "Python 3 (ipykernel)",
   "language": "python",
   "name": "python3"
  },
  "language_info": {
   "codemirror_mode": {
    "name": "ipython",
    "version": 3
   },
   "file_extension": ".py",
   "mimetype": "text/x-python",
   "name": "python",
   "nbconvert_exporter": "python",
   "pygments_lexer": "ipython3",
   "version": "3.9.13"
  }
 },
 "nbformat": 4,
 "nbformat_minor": 5
}
