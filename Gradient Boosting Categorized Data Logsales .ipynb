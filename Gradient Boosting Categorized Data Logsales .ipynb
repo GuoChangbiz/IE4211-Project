{
 "cells": [
  {
   "cell_type": "code",
   "execution_count": 2,
   "id": "89c4c047",
   "metadata": {},
   "outputs": [],
   "source": [
    "import pandas as pd\n",
    "import numpy as np\n",
    "import matplotlib.pyplot as plt\n",
    "from sklearn.metrics import mean_squared_error\n",
    "from sklearn.preprocessing import StandardScaler\n",
    "from sklearn.model_selection import KFold\n",
    "from sklearn.ensemble import GradientBoostingRegressor"
   ]
  },
  {
   "cell_type": "markdown",
   "id": "8376d032",
   "metadata": {},
   "source": [
    "# Data Processing"
   ]
  },
  {
   "cell_type": "code",
   "execution_count": 3,
   "id": "8689fe48",
   "metadata": {},
   "outputs": [],
   "source": [
    "train_X =pd.read_csv('train_X_cat.csv',index_col = 0)\n",
    "train_y_sales =pd.read_csv('train_y_sales.csv')\n",
    "train_y_sales = train_y_sales.sales\n",
    "train_y_logsales =pd.read_csv('train_y_logsales.csv',index_col = 0)\n",
    "train_y_logsales = train_y_logsales.sales"
   ]
  },
  {
   "cell_type": "markdown",
   "id": "c9743c22",
   "metadata": {},
   "source": [
    "# Model Definition (Function)"
   ]
  },
  {
   "cell_type": "markdown",
   "id": "88bab838",
   "metadata": {},
   "source": [
    "Function is created to do k-fold (k=10) on the training data set based on different hyperparameters. Hyperparameters include the learning rate and n estimators."
   ]
  },
  {
   "cell_type": "code",
   "execution_count": 3,
   "id": "4e953e63",
   "metadata": {},
   "outputs": [],
   "source": [
    "from sklearn.model_selection import KFold\n",
    "def Data_KFold_MSE(X,Y,k,alpha,n):\n",
    "    kf = KFold(n_splits=k)\n",
    "    test_mse = []\n",
    "    for train_index, test_index in kf.split(X):\n",
    "        X_train, X_test = X.iloc[train_index], X.iloc[test_index]\n",
    "        y_train, y_test = Y.iloc[train_index], Y.iloc[test_index]\n",
    "\n",
    "        gbr = GradientBoostingRegressor(learning_rate=alpha, n_estimators=n, random_state = 8)\n",
    "        gbr.fit(X_train, y_train)\n",
    "        \n",
    "        y_pred = gbr.predict(X_test)\n",
    "        mse = mean_squared_error(np.exp(y_test), np.exp(y_pred))\n",
    "        test_mse.append(mse)\n",
    "\n",
    "    return np.mean(test_mse)"
   ]
  },
  {
   "cell_type": "markdown",
   "id": "81fc60ae",
   "metadata": {},
   "source": [
    "# Finding Best Hyperparameter"
   ]
  },
  {
   "cell_type": "code",
   "execution_count": 4,
   "id": "5a0fc406",
   "metadata": {},
   "outputs": [
    {
     "data": {
      "text/plain": [
       "[[0.001, 10, 7142.998226578546],\n",
       " [0.001, 100, 6998.480755582214],\n",
       " [0.001, 1000, 4807.948063505493],\n",
       " [0.01, 10, 6997.6597463280295],\n",
       " [0.01, 100, 4793.7295440783255],\n",
       " [0.01, 1000, 907.326765424103],\n",
       " [0.1, 10, 4649.810825533643],\n",
       " [0.1, 100, 900.8407039909378],\n",
       " [0.1, 1000, 861.9283467509513],\n",
       " [1, 10, 1041.8583315775809],\n",
       " [1, 100, 1897.4164069733633],\n",
       " [1, 1000, 2106.5672490608185]]"
      ]
     },
     "execution_count": 4,
     "metadata": {},
     "output_type": "execute_result"
    }
   ],
   "source": [
    "alpha = [0.001,0.01,0.1,1]\n",
    "n_est = [10,100,1000]\n",
    "MSE_logsales = []\n",
    "for i in alpha:\n",
    "    for r in n_est:\n",
    "        MSE_logsales.append([i,r,Data_KFold_MSE(train_X, train_y_logsales,10,i,r)])\n",
    "MSE_logsales"
   ]
  },
  {
   "cell_type": "code",
   "execution_count": 5,
   "id": "7523c988",
   "metadata": {},
   "outputs": [
    {
     "data": {
      "text/plain": [
       "[0.1, 1000, 861.9283467509513]"
      ]
     },
     "execution_count": 5,
     "metadata": {},
     "output_type": "execute_result"
    }
   ],
   "source": [
    "length = len(MSE_logsales)\n",
    "minimum = 100000\n",
    "best = [0,0,0]\n",
    "for i in range(length):\n",
    "    if MSE_logsales[i][2] < minimum:\n",
    "        minimum = MSE_logsales[i][2]\n",
    "        best = MSE_logsales[i]\n",
    "best"
   ]
  },
  {
   "cell_type": "code",
   "execution_count": 6,
   "id": "0fc409d9",
   "metadata": {},
   "outputs": [
    {
     "data": {
      "text/plain": [
       "[861.9283467509513,\n",
       " 865.7243649379336,\n",
       " 984.4036402185538,\n",
       " 1034.718170239858,\n",
       " 884.2942344010298,\n",
       " 1165.4048266326736,\n",
       " 1875.3227167696004,\n",
       " 1549.7255122856748,\n",
       " 1445.2728576988366]"
      ]
     },
     "execution_count": 6,
     "metadata": {},
     "output_type": "execute_result"
    }
   ],
   "source": [
    "# Based on the previous results, the best parameters are\n",
    "# learning_rate = 0.1\n",
    "# n_estimators = 1000\n",
    "# This step will determine the best learning within the range of the learning rate found\n",
    "alpha_logsales = [0.1,0.2,0.3,0.4,0.5,0.6,0.7,0.8,0.9]\n",
    "MSE_logsales = []\n",
    "for i in alpha_logsales:\n",
    "    MSE_logsales.append(Data_KFold_MSE(train_X, train_y_logsales,10,i,1000))\n",
    "MSE_logsales"
   ]
  },
  {
   "cell_type": "code",
   "execution_count": 7,
   "id": "3146876f",
   "metadata": {
    "scrolled": true
   },
   "outputs": [
    {
     "data": {
      "image/png": "[encoded data removed]",
      "text/plain": [
       "<Figure size 640x480 with 1 Axes>"
      ]
     },
     "metadata": {},
     "output_type": "display_data"
    }
   ],
   "source": [
    "# Plotting the MSE values for the alpha values tested\n",
    "plt.plot(alpha_logsales,MSE_logsales)\n",
    "plt.show()"
   ]
  },
  {
   "cell_type": "code",
   "execution_count": 8,
   "id": "692ce2af",
   "metadata": {},
   "outputs": [
    {
     "name": "stdout",
     "output_type": "stream",
     "text": [
      "0.1 861.9283467509513\n"
     ]
    }
   ],
   "source": [
    "print(alpha_logsales[np.argmin(MSE_logsales)],MSE_logsales[np.argmin(MSE_logsales)])"
   ]
  },
  {
   "cell_type": "markdown",
   "id": "fc81e528",
   "metadata": {},
   "source": [
    "Hence the best hyperparameter is:\n",
    "1. Learning rate = 0.1\n",
    "2. n estimator = 1000\n",
    "\n",
    "Best MSE = 861.9283467509513"
   ]
  },
  {
   "cell_type": "code",
   "execution_count": 10,
   "id": "5def20f8",
   "metadata": {},
   "outputs": [
    {
     "data": {
      "text/plain": [
       "2.7861939324794442"
      ]
     },
     "execution_count": 10,
     "metadata": {},
     "output_type": "execute_result"
    }
   ],
   "source": [
    "# Using the entire training data set to train the model for predicting\n",
    "gbr = GradientBoostingRegressor(learning_rate=0.2, n_estimators=1000, random_state = 8)\n",
    "gbr.fit(train_X, train_y_logsales)\n",
    "\n",
    "# Testing the MSE of the new model using only training data\n",
    "y_pred = gbr.predict(train_X)\n",
    "mse = mean_squared_error(np.exp(train_y_logsales), np.exp(y_pred)) \n",
    "mse"
   ]
  },
  {
   "cell_type": "markdown",
   "id": "2da4836e",
   "metadata": {},
   "source": [
    "# Inventory Decision"
   ]
  },
  {
   "cell_type": "markdown",
   "id": "2ef27894",
   "metadata": {},
   "source": [
    "Model processing for inventory decision"
   ]
  },
  {
   "cell_type": "code",
   "execution_count": 4,
   "id": "61f48703",
   "metadata": {},
   "outputs": [],
   "source": [
    "from sklearn.model_selection import train_test_split\n",
    "X_train1,X_test1,Y_train1,Y_test1 = train_test_split(train_X,train_y_logsales,test_size=0.2,random_state=8)\n",
    "\n",
    "#Retraining the model using the the best hyperparameters determined, random state fixed at 8\n",
    "Model = GradientBoostingRegressor(learning_rate=0.2, n_estimators=1000,random_state = 8)\n",
    "Model.fit(X_train1,Y_train1.values.ravel())\n",
    "result = pd.DataFrame(Y_test1)\n",
    "result['predicted sales'] = Model.predict(X_test1)\n",
    "\n",
    "#Calculation of residual\n",
    "resid = np.exp(result['sales']) - np.exp(result['predicted sales'])"
   ]
  },
  {
   "cell_type": "code",
   "execution_count": 5,
   "id": "55ff1054",
   "metadata": {},
   "outputs": [],
   "source": [
    "# finding the critical fractile for the residual distribution\n",
    "price = 20\n",
    "cost = 12\n",
    "salvage = 8\n",
    "Overage_cost = cost - salvage\n",
    "Underage_cost = price - cost\n",
    "critical_fractile = Underage_cost/(Overage_cost + Underage_cost)"
   ]
  },
  {
   "cell_type": "markdown",
   "id": "da1ed196",
   "metadata": {},
   "source": [
    "# QQ Plot\n",
    "Using QQ plot to determine the distribution of the residual of the prediction of the model."
   ]
  },
  {
   "cell_type": "code",
   "execution_count": 6,
   "id": "9bc2b7f9",
   "metadata": {},
   "outputs": [],
   "source": [
    "import scipy\n",
    "import scipy.stats as sct"
   ]
  },
  {
   "cell_type": "code",
   "execution_count": 7,
   "id": "78b07e0b",
   "metadata": {},
   "outputs": [
    {
     "data": {
      "image/png": "[encoded data removed]",
      "text/plain": [
       "<Figure size 640x480 with 1 Axes>"
      ]
     },
     "metadata": {},
     "output_type": "display_data"
    }
   ],
   "source": [
    "#Normal distribution\n",
    "scipy.stats.probplot(resid, dist=\"norm\", plot=plt)\n",
    "plt.show()"
   ]
  },
  {
   "cell_type": "code",
   "execution_count": 8,
   "id": "67a4f776",
   "metadata": {},
   "outputs": [
    {
     "data": {
      "text/plain": [
       "117     58.0\n",
       "193     26.0\n",
       "355     25.0\n",
       "766     16.0\n",
       "550     20.0\n",
       "        ... \n",
       "1357    16.0\n",
       "384     50.0\n",
       "993     31.0\n",
       "176     16.0\n",
       "257     16.0\n",
       "Name: predicted sales, Length: 316, dtype: float64"
      ]
     },
     "execution_count": 8,
     "metadata": {},
     "output_type": "execute_result"
    }
   ],
   "source": [
    "# To find the values, it is the sum of the mean and the standard deviation multipled \n",
    "# by the standard normal distribution of the critical fractile\n",
    "norm_std = resid.std()\n",
    "demand_values_normal=round(sct.norm.ppf(critical_fractile)*norm_std + np.exp(result['predicted sales']))\n",
    "demand_values_normal"
   ]
  },
  {
   "cell_type": "code",
   "execution_count": 9,
   "id": "c26b0ee3",
   "metadata": {},
   "outputs": [
    {
     "data": {
      "image/png": "[encoded data removed]",
      "text/plain": [
       "<Figure size 640x480 with 1 Axes>"
      ]
     },
     "metadata": {},
     "output_type": "display_data"
    }
   ],
   "source": [
    "# Exponential Distribution\n",
    "scipy.stats.probplot(resid, dist=\"expon\", plot=plt)\n",
    "plt.show()"
   ]
  },
  {
   "cell_type": "code",
   "execution_count": 10,
   "id": "6c5559c1",
   "metadata": {},
   "outputs": [
    {
     "data": {
      "text/plain": [
       "117     47.0\n",
       "193     13.0\n",
       "355     11.0\n",
       "766      1.0\n",
       "550      6.0\n",
       "        ... \n",
       "1357     1.0\n",
       "384     39.0\n",
       "993     18.0\n",
       "176      1.0\n",
       "257      1.0\n",
       "Name: predicted sales, Length: 316, dtype: float64"
      ]
     },
     "execution_count": 10,
     "metadata": {},
     "output_type": "execute_result"
    }
   ],
   "source": [
    "# to find the demand values for exponential, require to use the inverse of the exponential distribution\n",
    "demand_values_exp = round(-(np.exp(result['predicted sales']))*np.log(1-critical_fractile))\n",
    "demand_values_exp"
   ]
  },
  {
   "cell_type": "code",
   "execution_count": 11,
   "id": "48d7129c",
   "metadata": {},
   "outputs": [
    {
     "data": {
      "text/plain": [
       "[<matplotlib.lines.Line2D at 0x28566e76fd0>]"
      ]
     },
     "execution_count": 11,
     "metadata": {},
     "output_type": "execute_result"
    },
    {
     "data": {
      "image/png": "[encoded data removed]",
      "text/plain": [
       "<Figure size 640x480 with 1 Axes>"
      ]
     },
     "metadata": {},
     "output_type": "display_data"
    }
   ],
   "source": [
    "# Empirical Distribution\n",
    "steps = 1/resid.shape[0]\n",
    "jump = [steps*i for i in range(1,resid.shape[0]+1)]\n",
    "samples = sorted(resid)\n",
    "plt.plot(samples,jump)"
   ]
  },
  {
   "cell_type": "code",
   "execution_count": 12,
   "id": "d3c66823",
   "metadata": {},
   "outputs": [
    {
     "data": {
      "image/png": "[encoded data removed]",
      "text/plain": [
       "<Figure size 640x480 with 1 Axes>"
      ]
     },
     "metadata": {},
     "output_type": "display_data"
    }
   ],
   "source": [
    "plt.hist(samples)\n",
    "plt.show()"
   ]
  },
  {
   "cell_type": "code",
   "execution_count": 13,
   "id": "aa1570cd",
   "metadata": {},
   "outputs": [],
   "source": [
    "# Finding the inverse of the empricial distribution based on the critical fractile\n",
    "def inv_of_dis(sample, jump, crit):\n",
    "    current_step = 0\n",
    "    checking_value = jump[current_step]\n",
    "    while checking_value < crit:\n",
    "        current_step += 1\n",
    "        checking_value = jump[current_step]\n",
    "    return sample[current_step]"
   ]
  },
  {
   "cell_type": "code",
   "execution_count": 14,
   "id": "8786fbf1",
   "metadata": {},
   "outputs": [
    {
     "data": {
      "text/plain": [
       "117     44.555840\n",
       "193     13.065997\n",
       "355     11.891195\n",
       "766      2.400241\n",
       "550      6.719104\n",
       "          ...    \n",
       "1357     2.351927\n",
       "384     36.749777\n",
       "993     17.449440\n",
       "176      2.476566\n",
       "257      2.707040\n",
       "Name: predicted sales, Length: 316, dtype: float64"
      ]
     },
     "execution_count": 14,
     "metadata": {},
     "output_type": "execute_result"
    }
   ],
   "source": [
    "demand_values_em = np.exp(result['predicted sales']) + inv_of_dis(samples, jump, critical_fractile)\n",
    "demand_values_em"
   ]
  },
  {
   "cell_type": "markdown",
   "id": "ee49794b",
   "metadata": {},
   "source": [
    "# Out-of-Sample Profit"
   ]
  },
  {
   "cell_type": "code",
   "execution_count": 15,
   "id": "80282792",
   "metadata": {},
   "outputs": [
    {
     "data": {
      "text/plain": [
       "97448.0"
      ]
     },
     "execution_count": 15,
     "metadata": {},
     "output_type": "execute_result"
    }
   ],
   "source": [
    "# Finding the max profit based on the test set.\n",
    "# No salvage as all products will be sold\n",
    "max_profit = np.exp(result['sales']).sum()*(price-cost)\n",
    "max_profit"
   ]
  },
  {
   "cell_type": "code",
   "execution_count": 16,
   "id": "18a5c402",
   "metadata": {},
   "outputs": [],
   "source": [
    "#Finding profit for the different distributions for the residual\n",
    "# Create a profit function.\n",
    "def profit(demand,y):\n",
    "    return (price-salvage)*np.minimum(demand,y) - (cost-salvage)*y\n",
    "\n",
    "# For this, demand will take on the actual sales while y will take on the predicted sales"
   ]
  },
  {
   "cell_type": "code",
   "execution_count": 17,
   "id": "2e5eaeb5",
   "metadata": {},
   "outputs": [
    {
     "data": {
      "text/plain": [
       "77280.0"
      ]
     },
     "execution_count": 17,
     "metadata": {},
     "output_type": "execute_result"
    }
   ],
   "source": [
    "# no distribution included\n",
    "np.sum(profit(np.exp(result['sales']),round(np.exp(result['predicted sales']))))"
   ]
  },
  {
   "cell_type": "code",
   "execution_count": 18,
   "id": "3e7eeac7",
   "metadata": {},
   "outputs": [
    {
     "data": {
      "text/plain": [
       "67200.0"
      ]
     },
     "execution_count": 18,
     "metadata": {},
     "output_type": "execute_result"
    }
   ],
   "source": [
    "# normal distribution included\n",
    "np.sum(profit(np.exp(result['sales']),round(demand_values_normal)))"
   ]
  },
  {
   "cell_type": "code",
   "execution_count": 19,
   "id": "591f81f5",
   "metadata": {},
   "outputs": [
    {
     "data": {
      "text/plain": [
       "77368.0"
      ]
     },
     "execution_count": 19,
     "metadata": {},
     "output_type": "execute_result"
    }
   ],
   "source": [
    "# exponential distribution included\n",
    "np.sum(profit(np.exp(result['sales']),round(demand_values_exp)))"
   ]
  },
  {
   "cell_type": "code",
   "execution_count": 20,
   "id": "38aa7c57",
   "metadata": {},
   "outputs": [
    {
     "data": {
      "text/plain": [
       "77708.0"
      ]
     },
     "execution_count": 20,
     "metadata": {},
     "output_type": "execute_result"
    }
   ],
   "source": [
    "# empricial distribution included\n",
    "np.sum(profit(np.exp(result['sales']),round(demand_values_em)))"
   ]
  },
  {
   "cell_type": "markdown",
   "id": "96734379",
   "metadata": {},
   "source": [
    "# K Fold Cross Validation for the Inventory Decision"
   ]
  },
  {
   "cell_type": "code",
   "execution_count": 24,
   "id": "7c5b2cda",
   "metadata": {},
   "outputs": [],
   "source": [
    "def K_fold_inventory_decision(X,Y,k):\n",
    "    best_profit = []\n",
    "    profit_non = []\n",
    "    profit_normal = []\n",
    "    profit_exp = []\n",
    "    profit_em = []\n",
    "    kf = KFold(n_splits=k)\n",
    "    for train_index, test_index in kf.split(X):\n",
    "        X_train, X_test = X.iloc[train_index], X.iloc[test_index]\n",
    "        y_train, y_test = Y.iloc[train_index], Y.iloc[test_index]\n",
    "        \n",
    "        #Retraining the model\n",
    "        Model = GradientBoostingRegressor(learning_rate=0.2, n_estimators=1000,random_state = 8)\n",
    "        Model.fit(X_train,y_train.values.ravel())\n",
    "        \n",
    "        result = pd.DataFrame(y_test)\n",
    "        result['predicted sales'] = Model.predict(X_test)\n",
    "        \n",
    "        #Calculation of residual\n",
    "        resid = np.exp(result['sales']) - np.exp(result['predicted sales'])\n",
    "        \n",
    "        # Testing normal distribution for residual\n",
    "        norm_std = resid.std()\n",
    "        demand_values_normal=round(sct.norm.ppf(critical_fractile)*norm_std + np.exp(result['predicted sales']))\n",
    "        \n",
    "        # Testing exponential distribution for residual\n",
    "        demand_values_exp = round(-(np.exp(result['predicted sales']))*np.log(1-critical_fractile))\n",
    "        \n",
    "        # Testing empirical distribution for residual\n",
    "        steps = 1/resid.shape[0]\n",
    "        jump = [steps*i for i in range(1,resid.shape[0]+1)]\n",
    "        samples = sorted(resid)\n",
    "        demand_values_em = np.exp(result['predicted sales']) + inv_of_dis(samples, jump, critical_fractile)\n",
    "        \n",
    "        max_profit = np.exp(result['sales']).sum()*(price-cost)\n",
    "        best_profit.append(max_profit)\n",
    "        \n",
    "        profit_non.append(np.sum(profit(np.exp(result['sales']),round(np.exp(result['predicted sales'])))))\n",
    "        profit_normal.append(np.sum(profit(np.exp(result['sales']),round(demand_values_normal))))\n",
    "        profit_exp.append(np.sum(profit(np.exp(result['sales']),round(demand_values_exp))))\n",
    "        profit_em.append(np.sum(profit(np.exp(result['sales']),round(demand_values_em))))\n",
    "    return best_profit, profit_non, profit_normal, profit_exp, profit_em"
   ]
  },
  {
   "cell_type": "code",
   "execution_count": 25,
   "id": "5d04a36e",
   "metadata": {},
   "outputs": [],
   "source": [
    "data = K_fold_inventory_decision(train_X,train_y_logsales,10)"
   ]
  },
  {
   "cell_type": "code",
   "execution_count": 26,
   "id": "18caed06",
   "metadata": {},
   "outputs": [
    {
     "name": "stdout",
     "output_type": "stream",
     "text": [
      "Max profit average 43742.4\n",
      "Profit with no distribution average 34742.0\n",
      "Profit with normal distribution average 31233.6\n",
      "Profit with exponential distribution average 35343.2\n",
      "Profit with empirical distribution average 34910.8\n"
     ]
    }
   ],
   "source": [
    "#Comparing different profits based on different distributions\n",
    "print(\"Max profit average\", np.average(data[0]))\n",
    "print(\"Profit with no distribution average\", np.average(data[1]))\n",
    "print(\"Profit with normal distribution average\", np.average(data[2]))\n",
    "print(\"Profit with exponential distribution average\", np.average(data[3]))\n",
    "print(\"Profit with empirical distribution average\", np.average(data[4]))"
   ]
  },
  {
   "cell_type": "markdown",
   "id": "dbd897e2",
   "metadata": {},
   "source": [
    "Based on the outcome of the k fold for inventory decision, the best distribution to model the residual of the sales is an exponential distribution as it is able to give the highest profit."
   ]
  },
  {
   "cell_type": "code",
   "execution_count": null,
   "id": "911c1341",
   "metadata": {},
   "outputs": [],
   "source": []
  }
 ],
 "metadata": {
  "kernelspec": {
   "display_name": "Python 3 (ipykernel)",
   "language": "python",
   "name": "python3"
  },
  "language_info": {
   "codemirror_mode": {
    "name": "ipython",
    "version": 3
   },
   "file_extension": ".py",
   "mimetype": "text/x-python",
   "name": "python",
   "nbconvert_exporter": "python",
   "pygments_lexer": "ipython3",
   "version": "3.11.5"
  }
 },
 "nbformat": 4,
 "nbformat_minor": 5
}
