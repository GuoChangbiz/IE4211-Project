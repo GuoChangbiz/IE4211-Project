{
 "cells": [
  {
   "cell_type": "markdown",
   "id": "81d45c3d",
   "metadata": {},
   "source": [
    "# Best Model\n",
    "The best model we determined is gradient boosting on the data set that has been categorised. (Without PCA)\n",
    "The hyperparameters for the gradient boosting is:\n",
    "1. Learning Rate = 0.1\n",
    "2. n estimator = 1000"
   ]
  },
  {
   "cell_type": "code",
   "execution_count": 1,
   "id": "0ecca37b",
   "metadata": {},
   "outputs": [],
   "source": [
    "import pandas as pd\n",
    "import numpy as np\n",
    "import matplotlib.pyplot as plt\n",
    "from sklearn.metrics import mean_squared_error\n",
    "from sklearn.preprocessing import StandardScaler\n",
    "from sklearn.model_selection import KFold\n",
    "from sklearn.ensemble import GradientBoostingRegressor"
   ]
  },
  {
   "cell_type": "code",
   "execution_count": 2,
   "id": "4c4bcd0c",
   "metadata": {},
   "outputs": [],
   "source": [
    "best_model = GradientBoostingRegressor(learning_rate=0.1, n_estimators=1000, random_state = 8)"
   ]
  },
  {
   "cell_type": "code",
   "execution_count": 3,
   "id": "50161bc5",
   "metadata": {},
   "outputs": [],
   "source": [
    "train_X =pd.read_csv('train_X_cat.csv',index_col = 0)\n",
    "train_y_logsales =pd.read_csv('train_y_logsales.csv',index_col = 0)\n",
    "train_y_logsales = train_y_logsales.sales\n",
    "\n",
    "#Call in the test data provided\n",
    "test_X =pd.read_csv('test_X_cat.csv',index_col = 0)\n",
    "\n",
    "#training of best model:\n",
    "best_model.fit(train_X,train_y_logsales)\n",
    "\n",
    "#Prediction for ground truth:\n",
    "result = pd.DataFrame()\n",
    "Logsales_prediction = best_model.predict(test_X)\n",
    "result['predicted sales'] = best_model.predict(test_X)"
   ]
  },
  {
   "cell_type": "code",
   "execution_count": 4,
   "id": "d4af5e6e",
   "metadata": {},
   "outputs": [],
   "source": [
    "# finding the critical fractile for the residual distribution\n",
    "price = 20\n",
    "cost = 12\n",
    "salvage = 8\n",
    "Overage_cost = cost - salvage\n",
    "Underage_cost = price - cost\n",
    "critical_fractile = Underage_cost/(Overage_cost + Underage_cost)"
   ]
  },
  {
   "cell_type": "markdown",
   "id": "6c903704",
   "metadata": {},
   "source": [
    "# Best Inventory Decision"
   ]
  },
  {
   "cell_type": "markdown",
   "id": "5fcd0234",
   "metadata": {},
   "source": [
    "Following the exponential distribution for residual "
   ]
  },
  {
   "cell_type": "code",
   "execution_count": 6,
   "id": "2537b1ce",
   "metadata": {},
   "outputs": [
    {
     "data": {
      "text/plain": [
       "0         5.0\n",
       "1         6.0\n",
       "2         2.0\n",
       "3         2.0\n",
       "4       151.0\n",
       "        ...  \n",
       "1046      4.0\n",
       "1047     21.0\n",
       "1048     17.0\n",
       "1049      5.0\n",
       "1050     19.0\n",
       "Name: predicted sales, Length: 1051, dtype: float64"
      ]
     },
     "execution_count": 6,
     "metadata": {},
     "output_type": "execute_result"
    }
   ],
   "source": [
    "# This is the inventory decision for each day\n",
    "demand_values_exp = round(-(np.exp(result['predicted sales']))*np.log(1-critical_fractile))\n",
    "demand_values_exp"
   ]
  },
  {
   "cell_type": "code",
   "execution_count": null,
   "id": "90b71395",
   "metadata": {},
   "outputs": [],
   "source": []
  }
 ],
 "metadata": {
  "kernelspec": {
   "display_name": "Python 3 (ipykernel)",
   "language": "python",
   "name": "python3"
  },
  "language_info": {
   "codemirror_mode": {
    "name": "ipython",
    "version": 3
   },
   "file_extension": ".py",
   "mimetype": "text/x-python",
   "name": "python",
   "nbconvert_exporter": "python",
   "pygments_lexer": "ipython3",
   "version": "3.11.5"
  }
 },
 "nbformat": 4,
 "nbformat_minor": 5
}
