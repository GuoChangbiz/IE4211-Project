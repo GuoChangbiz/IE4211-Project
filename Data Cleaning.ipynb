{
 "cells": [
  {
   "cell_type": "code",
   "execution_count": 1,
   "id": "0721d77d",
   "metadata": {},
   "outputs": [],
   "source": [
    "import pandas as pd\n",
    "import numpy as np\n",
    "import matplotlib.pyplot as plt\n",
    "from sklearn.preprocessing import StandardScaler, OneHotEncoder"
   ]
  },
  {
   "cell_type": "markdown",
   "id": "0b2101a3",
   "metadata": {},
   "source": [
    "# Step 1: Reading of train and test files"
   ]
  },
  {
   "cell_type": "code",
   "execution_count": 2,
   "id": "30a42c06",
   "metadata": {},
   "outputs": [
    {
     "data": {
      "text/html": [
       "<div>\n",
       "<style scoped>\n",
       "    .dataframe tbody tr th:only-of-type {\n",
       "        vertical-align: middle;\n",
       "    }\n",
       "\n",
       "    .dataframe tbody tr th {\n",
       "        vertical-align: top;\n",
       "    }\n",
       "\n",
       "    .dataframe thead th {\n",
       "        text-align: right;\n",
       "    }\n",
       "</style>\n",
       "<table border=\"1\" class=\"dataframe\">\n",
       "  <thead>\n",
       "    <tr style=\"text-align: right;\">\n",
       "      <th></th>\n",
       "      <th>productID</th>\n",
       "      <th>brandID</th>\n",
       "      <th>attribute1</th>\n",
       "      <th>attribute2</th>\n",
       "      <th>attribute3</th>\n",
       "      <th>attribute4</th>\n",
       "      <th>clickVolume</th>\n",
       "      <th>avgOriginalUnitPrice</th>\n",
       "      <th>avgFinalUnitPrice</th>\n",
       "      <th>ma14SalesVolume</th>\n",
       "      <th>weekday</th>\n",
       "      <th>meanAge</th>\n",
       "      <th>gender</th>\n",
       "      <th>meanEducation</th>\n",
       "      <th>maritalStatus</th>\n",
       "      <th>plus</th>\n",
       "      <th>meanPurchasePower</th>\n",
       "      <th>meanUserLevel</th>\n",
       "      <th>meanCityLevel</th>\n",
       "      <th>sales</th>\n",
       "    </tr>\n",
       "  </thead>\n",
       "  <tbody>\n",
       "    <tr>\n",
       "      <th>0</th>\n",
       "      <td>68</td>\n",
       "      <td>28</td>\n",
       "      <td>3.0</td>\n",
       "      <td>100.0</td>\n",
       "      <td>9</td>\n",
       "      <td>1.561599</td>\n",
       "      <td>799.0</td>\n",
       "      <td>237.206500</td>\n",
       "      <td>186.956968</td>\n",
       "      <td>11.785714</td>\n",
       "      <td>4</td>\n",
       "      <td>35.498327</td>\n",
       "      <td>0.114401</td>\n",
       "      <td>3.046749</td>\n",
       "      <td>0.562923</td>\n",
       "      <td>0.206291</td>\n",
       "      <td>2.173474</td>\n",
       "      <td>3.628150</td>\n",
       "      <td>2.181482</td>\n",
       "      <td>14</td>\n",
       "    </tr>\n",
       "    <tr>\n",
       "      <th>1</th>\n",
       "      <td>31</td>\n",
       "      <td>6</td>\n",
       "      <td>3.0</td>\n",
       "      <td>100.0</td>\n",
       "      <td>2</td>\n",
       "      <td>7.747685</td>\n",
       "      <td>352.0</td>\n",
       "      <td>178.540538</td>\n",
       "      <td>129.123143</td>\n",
       "      <td>25.785714</td>\n",
       "      <td>7</td>\n",
       "      <td>25.633478</td>\n",
       "      <td>0.000000</td>\n",
       "      <td>3.005766</td>\n",
       "      <td>0.000000</td>\n",
       "      <td>0.444095</td>\n",
       "      <td>1.927769</td>\n",
       "      <td>3.058834</td>\n",
       "      <td>1.511026</td>\n",
       "      <td>2</td>\n",
       "    </tr>\n",
       "    <tr>\n",
       "      <th>2</th>\n",
       "      <td>27</td>\n",
       "      <td>19</td>\n",
       "      <td>3.0</td>\n",
       "      <td>60.0</td>\n",
       "      <td>2</td>\n",
       "      <td>3.899665</td>\n",
       "      <td>293.0</td>\n",
       "      <td>119.066221</td>\n",
       "      <td>59.136199</td>\n",
       "      <td>21.357143</td>\n",
       "      <td>6</td>\n",
       "      <td>32.228120</td>\n",
       "      <td>0.158911</td>\n",
       "      <td>2.935705</td>\n",
       "      <td>0.293093</td>\n",
       "      <td>0.132959</td>\n",
       "      <td>2.324772</td>\n",
       "      <td>2.650857</td>\n",
       "      <td>1.665037</td>\n",
       "      <td>16</td>\n",
       "    </tr>\n",
       "    <tr>\n",
       "      <th>3</th>\n",
       "      <td>52</td>\n",
       "      <td>4</td>\n",
       "      <td>3.0</td>\n",
       "      <td>80.0</td>\n",
       "      <td>1</td>\n",
       "      <td>1.585429</td>\n",
       "      <td>537.0</td>\n",
       "      <td>139.452545</td>\n",
       "      <td>68.572100</td>\n",
       "      <td>7.285714</td>\n",
       "      <td>5</td>\n",
       "      <td>29.304317</td>\n",
       "      <td>0.186522</td>\n",
       "      <td>2.810752</td>\n",
       "      <td>0.242181</td>\n",
       "      <td>0.000000</td>\n",
       "      <td>2.192938</td>\n",
       "      <td>2.026259</td>\n",
       "      <td>2.481082</td>\n",
       "      <td>13</td>\n",
       "    </tr>\n",
       "    <tr>\n",
       "      <th>4</th>\n",
       "      <td>3</td>\n",
       "      <td>28</td>\n",
       "      <td>3.0</td>\n",
       "      <td>100.0</td>\n",
       "      <td>14</td>\n",
       "      <td>4.623051</td>\n",
       "      <td>6668.0</td>\n",
       "      <td>298.106532</td>\n",
       "      <td>244.047761</td>\n",
       "      <td>296.214286</td>\n",
       "      <td>5</td>\n",
       "      <td>29.132081</td>\n",
       "      <td>0.300183</td>\n",
       "      <td>3.032527</td>\n",
       "      <td>0.391279</td>\n",
       "      <td>0.103062</td>\n",
       "      <td>2.135294</td>\n",
       "      <td>2.736957</td>\n",
       "      <td>1.979200</td>\n",
       "      <td>159</td>\n",
       "    </tr>\n",
       "  </tbody>\n",
       "</table>\n",
       "</div>"
      ],
      "text/plain": [
       "   productID  brandID  attribute1  attribute2  attribute3  attribute4  \\\n",
       "0         68       28         3.0       100.0           9    1.561599   \n",
       "1         31        6         3.0       100.0           2    7.747685   \n",
       "2         27       19         3.0        60.0           2    3.899665   \n",
       "3         52        4         3.0        80.0           1    1.585429   \n",
       "4          3       28         3.0       100.0          14    4.623051   \n",
       "\n",
       "   clickVolume  avgOriginalUnitPrice  avgFinalUnitPrice  ma14SalesVolume  \\\n",
       "0        799.0            237.206500         186.956968        11.785714   \n",
       "1        352.0            178.540538         129.123143        25.785714   \n",
       "2        293.0            119.066221          59.136199        21.357143   \n",
       "3        537.0            139.452545          68.572100         7.285714   \n",
       "4       6668.0            298.106532         244.047761       296.214286   \n",
       "\n",
       "   weekday    meanAge    gender  meanEducation  maritalStatus      plus  \\\n",
       "0        4  35.498327  0.114401       3.046749       0.562923  0.206291   \n",
       "1        7  25.633478  0.000000       3.005766       0.000000  0.444095   \n",
       "2        6  32.228120  0.158911       2.935705       0.293093  0.132959   \n",
       "3        5  29.304317  0.186522       2.810752       0.242181  0.000000   \n",
       "4        5  29.132081  0.300183       3.032527       0.391279  0.103062   \n",
       "\n",
       "   meanPurchasePower  meanUserLevel  meanCityLevel  sales  \n",
       "0           2.173474       3.628150       2.181482     14  \n",
       "1           1.927769       3.058834       1.511026      2  \n",
       "2           2.324772       2.650857       1.665037     16  \n",
       "3           2.192938       2.026259       2.481082     13  \n",
       "4           2.135294       2.736957       1.979200    159  "
      ]
     },
     "execution_count": 2,
     "metadata": {},
     "output_type": "execute_result"
    }
   ],
   "source": [
    "train_data=pd.read_csv('Data-Train.csv', index_col=0)\n",
    "test_data=pd.read_csv('Data-Test.csv', index_col=0)\n",
    "\n",
    "original_train_data = train_data\n",
    "original_test_data = test_data\n",
    "\n",
    "train_data.head()"
   ]
  },
  {
   "cell_type": "markdown",
   "id": "38a7f75a",
   "metadata": {},
   "source": [
    "# Step 2: Insights into data set based on summary of the data"
   ]
  },
  {
   "cell_type": "code",
   "execution_count": 3,
   "id": "2cafa8c9",
   "metadata": {},
   "outputs": [
    {
     "name": "stdout",
     "output_type": "stream",
     "text": [
      "<class 'pandas.core.frame.DataFrame'>\n",
      "Index: 1576 entries, 0 to 1575\n",
      "Data columns (total 20 columns):\n",
      " #   Column                Non-Null Count  Dtype  \n",
      "---  ------                --------------  -----  \n",
      " 0   productID             1576 non-null   int64  \n",
      " 1   brandID               1576 non-null   int64  \n",
      " 2   attribute1            1576 non-null   float64\n",
      " 3   attribute2            1576 non-null   float64\n",
      " 4   attribute3            1576 non-null   int64  \n",
      " 5   attribute4            1576 non-null   float64\n",
      " 6   clickVolume           1576 non-null   float64\n",
      " 7   avgOriginalUnitPrice  1576 non-null   float64\n",
      " 8   avgFinalUnitPrice     1576 non-null   float64\n",
      " 9   ma14SalesVolume       1576 non-null   float64\n",
      " 10  weekday               1576 non-null   int64  \n",
      " 11  meanAge               1576 non-null   float64\n",
      " 12  gender                1576 non-null   float64\n",
      " 13  meanEducation         1576 non-null   float64\n",
      " 14  maritalStatus         1576 non-null   float64\n",
      " 15  plus                  1576 non-null   float64\n",
      " 16  meanPurchasePower     1576 non-null   float64\n",
      " 17  meanUserLevel         1576 non-null   float64\n",
      " 18  meanCityLevel         1576 non-null   float64\n",
      " 19  sales                 1576 non-null   int64  \n",
      "dtypes: float64(15), int64(5)\n",
      "memory usage: 258.6 KB\n",
      "None\n"
     ]
    }
   ],
   "source": [
    "print(train_data.info())"
   ]
  },
  {
   "cell_type": "code",
   "execution_count": 4,
   "id": "3180b910",
   "metadata": {},
   "outputs": [
    {
     "name": "stdout",
     "output_type": "stream",
     "text": [
      "productID               0\n",
      "brandID                 0\n",
      "attribute1              0\n",
      "attribute2              0\n",
      "attribute3              0\n",
      "attribute4              0\n",
      "clickVolume             0\n",
      "avgOriginalUnitPrice    0\n",
      "avgFinalUnitPrice       0\n",
      "ma14SalesVolume         0\n",
      "weekday                 0\n",
      "meanAge                 0\n",
      "gender                  0\n",
      "meanEducation           0\n",
      "maritalStatus           0\n",
      "plus                    0\n",
      "meanPurchasePower       0\n",
      "meanUserLevel           0\n",
      "meanCityLevel           0\n",
      "sales                   0\n",
      "dtype: int64\n"
     ]
    }
   ],
   "source": [
    "print(train_data.isnull().sum())"
   ]
  },
  {
   "cell_type": "code",
   "execution_count": 5,
   "id": "fa997979",
   "metadata": {},
   "outputs": [
    {
     "name": "stdout",
     "output_type": "stream",
     "text": [
      "<class 'pandas.core.frame.DataFrame'>\n",
      "Index: 1051 entries, 0 to 1050\n",
      "Data columns (total 19 columns):\n",
      " #   Column                Non-Null Count  Dtype  \n",
      "---  ------                --------------  -----  \n",
      " 0   productID             1051 non-null   int64  \n",
      " 1   brandID               1051 non-null   int64  \n",
      " 2   attribute1            1051 non-null   float64\n",
      " 3   attribute2            1051 non-null   float64\n",
      " 4   attribute3            1051 non-null   int64  \n",
      " 5   attribute4            1051 non-null   float64\n",
      " 6   clickVolume           1051 non-null   float64\n",
      " 7   avgOriginalUnitPrice  1051 non-null   float64\n",
      " 8   avgFinalUnitPrice     1051 non-null   float64\n",
      " 9   ma14SalesVolume       1051 non-null   float64\n",
      " 10  weekday               1051 non-null   int64  \n",
      " 11  meanAge               1051 non-null   float64\n",
      " 12  gender                1051 non-null   float64\n",
      " 13  meanEducation         1051 non-null   float64\n",
      " 14  maritalStatus         1051 non-null   float64\n",
      " 15  plus                  1051 non-null   float64\n",
      " 16  meanPurchasePower     1051 non-null   float64\n",
      " 17  meanUserLevel         1051 non-null   float64\n",
      " 18  meanCityLevel         1051 non-null   float64\n",
      "dtypes: float64(15), int64(4)\n",
      "memory usage: 164.2 KB\n",
      "None\n"
     ]
    }
   ],
   "source": [
    "print(test_data.info())"
   ]
  },
  {
   "cell_type": "code",
   "execution_count": 6,
   "id": "9159bfd2",
   "metadata": {},
   "outputs": [
    {
     "name": "stdout",
     "output_type": "stream",
     "text": [
      "productID               0\n",
      "brandID                 0\n",
      "attribute1              0\n",
      "attribute2              0\n",
      "attribute3              0\n",
      "attribute4              0\n",
      "clickVolume             0\n",
      "avgOriginalUnitPrice    0\n",
      "avgFinalUnitPrice       0\n",
      "ma14SalesVolume         0\n",
      "weekday                 0\n",
      "meanAge                 0\n",
      "gender                  0\n",
      "meanEducation           0\n",
      "maritalStatus           0\n",
      "plus                    0\n",
      "meanPurchasePower       0\n",
      "meanUserLevel           0\n",
      "meanCityLevel           0\n",
      "dtype: int64\n"
     ]
    }
   ],
   "source": [
    "print(test_data.isnull().sum())"
   ]
  },
  {
   "cell_type": "markdown",
   "id": "830c1664",
   "metadata": {},
   "source": [
    "Based on the codes above, we can conclude that there are no missing data in the data set for both train and test sets."
   ]
  },
  {
   "cell_type": "markdown",
   "id": "cc0d1d71",
   "metadata": {},
   "source": [
    "# Step 3: Check for duplicates in the data sets"
   ]
  },
  {
   "cell_type": "code",
   "execution_count": 7,
   "id": "4310745d",
   "metadata": {},
   "outputs": [
    {
     "name": "stdout",
     "output_type": "stream",
     "text": [
      "There are no duplicates in the train data set.\n"
     ]
    }
   ],
   "source": [
    "duplicates_train = train_data[train_data.duplicated()]\n",
    "\n",
    "if duplicates_train.empty:\n",
    "    print(\"There are no duplicates in the train data set.\")\n",
    "else:\n",
    "    print(\"There are duplicates in the train data set.\")\n",
    "    print(duplicates_train)"
   ]
  },
  {
   "cell_type": "code",
   "execution_count": 8,
   "id": "6ca09f26",
   "metadata": {},
   "outputs": [
    {
     "name": "stdout",
     "output_type": "stream",
     "text": [
      "There are no duplicates in the test data set.\n"
     ]
    }
   ],
   "source": [
    "duplicates_test = test_data[test_data.duplicated()]\n",
    "\n",
    "if duplicates_test.empty:\n",
    "    print(\"There are no duplicates in the test data set.\")\n",
    "else:\n",
    "    print(\"There are duplicates in the test data set.\")\n",
    "    print(duplicates_test)"
   ]
  },
  {
   "cell_type": "markdown",
   "id": "c4a7b497",
   "metadata": {},
   "source": [
    "# Step 4: Identification of Categorical Variables"
   ]
  },
  {
   "cell_type": "markdown",
   "id": "758b95ed",
   "metadata": {},
   "source": [
    "By identifying the number of unique values held by each column, we can deduce that those with less number of unique values tend to be categorical variables with repetition of these certain unique values. As such, we should remove them from the data set to make the results more meaningful."
   ]
  },
  {
   "cell_type": "code",
   "execution_count": 9,
   "id": "e948eb95",
   "metadata": {},
   "outputs": [
    {
     "data": {
      "text/plain": [
       "productID                 59\n",
       "brandID                   36\n",
       "attribute1                 4\n",
       "attribute2                 7\n",
       "attribute3                26\n",
       "attribute4              1576\n",
       "clickVolume              968\n",
       "avgOriginalUnitPrice    1576\n",
       "avgFinalUnitPrice       1576\n",
       "ma14SalesVolume          663\n",
       "weekday                    7\n",
       "meanAge                 1576\n",
       "gender                  1340\n",
       "meanEducation           1576\n",
       "maritalStatus           1494\n",
       "plus                    1381\n",
       "meanPurchasePower       1576\n",
       "meanUserLevel           1576\n",
       "meanCityLevel           1576\n",
       "sales                    196\n",
       "dtype: int64"
      ]
     },
     "execution_count": 9,
     "metadata": {},
     "output_type": "execute_result"
    }
   ],
   "source": [
    "train_data.nunique()"
   ]
  },
  {
   "cell_type": "code",
   "execution_count": 10,
   "id": "d0bb8998",
   "metadata": {},
   "outputs": [
    {
     "data": {
      "text/plain": [
       "productID                 58\n",
       "brandID                   36\n",
       "attribute1                 4\n",
       "attribute2                 7\n",
       "attribute3                24\n",
       "attribute4              1051\n",
       "clickVolume              745\n",
       "avgOriginalUnitPrice    1051\n",
       "avgFinalUnitPrice       1051\n",
       "ma14SalesVolume          531\n",
       "weekday                    7\n",
       "meanAge                 1051\n",
       "gender                   909\n",
       "meanEducation           1051\n",
       "maritalStatus           1004\n",
       "plus                     914\n",
       "meanPurchasePower       1051\n",
       "meanUserLevel           1051\n",
       "meanCityLevel           1051\n",
       "dtype: int64"
      ]
     },
     "execution_count": 10,
     "metadata": {},
     "output_type": "execute_result"
    }
   ],
   "source": [
    "test_data.nunique()"
   ]
  },
  {
   "cell_type": "markdown",
   "id": "61e89cea",
   "metadata": {},
   "source": [
    "Based on a comparison, those variables which are likely to be categorical variables are \"productID\", \"brandID\", \"attribute1\",\"attribute2\",\"attribute3\" and \"weekday\". "
   ]
  },
  {
   "cell_type": "markdown",
   "id": "2ccbd460",
   "metadata": {},
   "source": [
    "# Step 5: Conversion of identified categorical variables using OneHotEncoder"
   ]
  },
  {
   "cell_type": "code",
   "execution_count": 11,
   "id": "f37aaf47",
   "metadata": {},
   "outputs": [
    {
     "name": "stderr",
     "output_type": "stream",
     "text": [
      "D:\\anaconda\\lib\\site-packages\\sklearn\\preprocessing\\_encoders.py:975: FutureWarning: `sparse` was renamed to `sparse_output` in version 1.2 and will be removed in 1.4. `sparse_output` is ignored unless you leave `sparse` to its default value.\n",
      "  warnings.warn(\n"
     ]
    }
   ],
   "source": [
    "catvar = ['productID', 'brandID', 'attribute1', 'attribute2', 'attribute3', 'weekday'] \n",
    "\n",
    "encoder = OneHotEncoder(sparse=False, handle_unknown='ignore')\n",
    "\n",
    "transformed_columns = encoder.fit_transform(train_data[catvar])\n",
    "\n",
    "encoded_dataset = pd.DataFrame(transformed_columns, columns=encoder.get_feature_names_out(catvar))\n",
    "\n",
    "train_data = train_data.drop(columns=catvar)\n",
    "\n",
    "train_data = pd.concat([train_data, encoded_dataset], axis=1)\n",
    "train_data.to_csv(\"Train_data\", index=False)"
   ]
  },
  {
   "cell_type": "code",
   "execution_count": 12,
   "id": "befd053b",
   "metadata": {},
   "outputs": [
    {
     "data": {
      "text/html": [
       "<div>\n",
       "<style scoped>\n",
       "    .dataframe tbody tr th:only-of-type {\n",
       "        vertical-align: middle;\n",
       "    }\n",
       "\n",
       "    .dataframe tbody tr th {\n",
       "        vertical-align: top;\n",
       "    }\n",
       "\n",
       "    .dataframe thead th {\n",
       "        text-align: right;\n",
       "    }\n",
       "</style>\n",
       "<table border=\"1\" class=\"dataframe\">\n",
       "  <thead>\n",
       "    <tr style=\"text-align: right;\">\n",
       "      <th></th>\n",
       "      <th>attribute4</th>\n",
       "      <th>clickVolume</th>\n",
       "      <th>avgOriginalUnitPrice</th>\n",
       "      <th>avgFinalUnitPrice</th>\n",
       "      <th>ma14SalesVolume</th>\n",
       "      <th>meanAge</th>\n",
       "      <th>gender</th>\n",
       "      <th>meanEducation</th>\n",
       "      <th>maritalStatus</th>\n",
       "      <th>plus</th>\n",
       "      <th>...</th>\n",
       "      <th>attribute3_24</th>\n",
       "      <th>attribute3_25</th>\n",
       "      <th>attribute3_28</th>\n",
       "      <th>weekday_1</th>\n",
       "      <th>weekday_2</th>\n",
       "      <th>weekday_3</th>\n",
       "      <th>weekday_4</th>\n",
       "      <th>weekday_5</th>\n",
       "      <th>weekday_6</th>\n",
       "      <th>weekday_7</th>\n",
       "    </tr>\n",
       "  </thead>\n",
       "  <tbody>\n",
       "    <tr>\n",
       "      <th>0</th>\n",
       "      <td>1.561599</td>\n",
       "      <td>799.0</td>\n",
       "      <td>237.206500</td>\n",
       "      <td>186.956968</td>\n",
       "      <td>11.785714</td>\n",
       "      <td>35.498327</td>\n",
       "      <td>0.114401</td>\n",
       "      <td>3.046749</td>\n",
       "      <td>0.562923</td>\n",
       "      <td>0.206291</td>\n",
       "      <td>...</td>\n",
       "      <td>0.0</td>\n",
       "      <td>0.0</td>\n",
       "      <td>0.0</td>\n",
       "      <td>0.0</td>\n",
       "      <td>0.0</td>\n",
       "      <td>0.0</td>\n",
       "      <td>1.0</td>\n",
       "      <td>0.0</td>\n",
       "      <td>0.0</td>\n",
       "      <td>0.0</td>\n",
       "    </tr>\n",
       "    <tr>\n",
       "      <th>1</th>\n",
       "      <td>7.747685</td>\n",
       "      <td>352.0</td>\n",
       "      <td>178.540538</td>\n",
       "      <td>129.123143</td>\n",
       "      <td>25.785714</td>\n",
       "      <td>25.633478</td>\n",
       "      <td>0.000000</td>\n",
       "      <td>3.005766</td>\n",
       "      <td>0.000000</td>\n",
       "      <td>0.444095</td>\n",
       "      <td>...</td>\n",
       "      <td>0.0</td>\n",
       "      <td>0.0</td>\n",
       "      <td>0.0</td>\n",
       "      <td>0.0</td>\n",
       "      <td>0.0</td>\n",
       "      <td>0.0</td>\n",
       "      <td>0.0</td>\n",
       "      <td>0.0</td>\n",
       "      <td>0.0</td>\n",
       "      <td>1.0</td>\n",
       "    </tr>\n",
       "    <tr>\n",
       "      <th>2</th>\n",
       "      <td>3.899665</td>\n",
       "      <td>293.0</td>\n",
       "      <td>119.066221</td>\n",
       "      <td>59.136199</td>\n",
       "      <td>21.357143</td>\n",
       "      <td>32.228120</td>\n",
       "      <td>0.158911</td>\n",
       "      <td>2.935705</td>\n",
       "      <td>0.293093</td>\n",
       "      <td>0.132959</td>\n",
       "      <td>...</td>\n",
       "      <td>0.0</td>\n",
       "      <td>0.0</td>\n",
       "      <td>0.0</td>\n",
       "      <td>0.0</td>\n",
       "      <td>0.0</td>\n",
       "      <td>0.0</td>\n",
       "      <td>0.0</td>\n",
       "      <td>0.0</td>\n",
       "      <td>1.0</td>\n",
       "      <td>0.0</td>\n",
       "    </tr>\n",
       "    <tr>\n",
       "      <th>3</th>\n",
       "      <td>1.585429</td>\n",
       "      <td>537.0</td>\n",
       "      <td>139.452545</td>\n",
       "      <td>68.572100</td>\n",
       "      <td>7.285714</td>\n",
       "      <td>29.304317</td>\n",
       "      <td>0.186522</td>\n",
       "      <td>2.810752</td>\n",
       "      <td>0.242181</td>\n",
       "      <td>0.000000</td>\n",
       "      <td>...</td>\n",
       "      <td>0.0</td>\n",
       "      <td>0.0</td>\n",
       "      <td>0.0</td>\n",
       "      <td>0.0</td>\n",
       "      <td>0.0</td>\n",
       "      <td>0.0</td>\n",
       "      <td>0.0</td>\n",
       "      <td>1.0</td>\n",
       "      <td>0.0</td>\n",
       "      <td>0.0</td>\n",
       "    </tr>\n",
       "    <tr>\n",
       "      <th>4</th>\n",
       "      <td>4.623051</td>\n",
       "      <td>6668.0</td>\n",
       "      <td>298.106532</td>\n",
       "      <td>244.047761</td>\n",
       "      <td>296.214286</td>\n",
       "      <td>29.132081</td>\n",
       "      <td>0.300183</td>\n",
       "      <td>3.032527</td>\n",
       "      <td>0.391279</td>\n",
       "      <td>0.103062</td>\n",
       "      <td>...</td>\n",
       "      <td>0.0</td>\n",
       "      <td>0.0</td>\n",
       "      <td>0.0</td>\n",
       "      <td>0.0</td>\n",
       "      <td>0.0</td>\n",
       "      <td>0.0</td>\n",
       "      <td>0.0</td>\n",
       "      <td>1.0</td>\n",
       "      <td>0.0</td>\n",
       "      <td>0.0</td>\n",
       "    </tr>\n",
       "  </tbody>\n",
       "</table>\n",
       "<p>5 rows × 153 columns</p>\n",
       "</div>"
      ],
      "text/plain": [
       "   attribute4  clickVolume  avgOriginalUnitPrice  avgFinalUnitPrice  \\\n",
       "0    1.561599        799.0            237.206500         186.956968   \n",
       "1    7.747685        352.0            178.540538         129.123143   \n",
       "2    3.899665        293.0            119.066221          59.136199   \n",
       "3    1.585429        537.0            139.452545          68.572100   \n",
       "4    4.623051       6668.0            298.106532         244.047761   \n",
       "\n",
       "   ma14SalesVolume    meanAge    gender  meanEducation  maritalStatus  \\\n",
       "0        11.785714  35.498327  0.114401       3.046749       0.562923   \n",
       "1        25.785714  25.633478  0.000000       3.005766       0.000000   \n",
       "2        21.357143  32.228120  0.158911       2.935705       0.293093   \n",
       "3         7.285714  29.304317  0.186522       2.810752       0.242181   \n",
       "4       296.214286  29.132081  0.300183       3.032527       0.391279   \n",
       "\n",
       "       plus  ...  attribute3_24  attribute3_25  attribute3_28  weekday_1  \\\n",
       "0  0.206291  ...            0.0            0.0            0.0        0.0   \n",
       "1  0.444095  ...            0.0            0.0            0.0        0.0   \n",
       "2  0.132959  ...            0.0            0.0            0.0        0.0   \n",
       "3  0.000000  ...            0.0            0.0            0.0        0.0   \n",
       "4  0.103062  ...            0.0            0.0            0.0        0.0   \n",
       "\n",
       "   weekday_2  weekday_3  weekday_4  weekday_5  weekday_6  weekday_7  \n",
       "0        0.0        0.0        1.0        0.0        0.0        0.0  \n",
       "1        0.0        0.0        0.0        0.0        0.0        1.0  \n",
       "2        0.0        0.0        0.0        0.0        1.0        0.0  \n",
       "3        0.0        0.0        0.0        1.0        0.0        0.0  \n",
       "4        0.0        0.0        0.0        1.0        0.0        0.0  \n",
       "\n",
       "[5 rows x 153 columns]"
      ]
     },
     "execution_count": 12,
     "metadata": {},
     "output_type": "execute_result"
    }
   ],
   "source": [
    "train_data.head()"
   ]
  },
  {
   "cell_type": "code",
   "execution_count": 13,
   "id": "45986c21",
   "metadata": {},
   "outputs": [
    {
     "name": "stderr",
     "output_type": "stream",
     "text": [
      "D:\\anaconda\\lib\\site-packages\\sklearn\\preprocessing\\_encoders.py:975: FutureWarning: `sparse` was renamed to `sparse_output` in version 1.2 and will be removed in 1.4. `sparse_output` is ignored unless you leave `sparse` to its default value.\n",
      "  warnings.warn(\n"
     ]
    }
   ],
   "source": [
    "catvar = ['productID', 'brandID', 'attribute1', 'attribute2', 'attribute3', 'weekday'] \n",
    "\n",
    "encoder = OneHotEncoder(sparse=False, handle_unknown='ignore')\n",
    "\n",
    "transformed_columns = encoder.fit_transform(test_data[catvar])\n",
    "\n",
    "encoded_dataset = pd.DataFrame(transformed_columns, columns=encoder.get_feature_names_out(catvar))\n",
    "\n",
    "test_data = test_data.drop(columns=catvar)\n",
    "\n",
    "test_data = pd.concat([test_data, encoded_dataset], axis=1)"
   ]
  },
  {
   "cell_type": "code",
   "execution_count": 14,
   "id": "1c57fe46",
   "metadata": {},
   "outputs": [
    {
     "data": {
      "text/plain": [
       "Index(['attribute4', 'clickVolume', 'avgOriginalUnitPrice',\n",
       "       'avgFinalUnitPrice', 'ma14SalesVolume', 'meanAge', 'gender',\n",
       "       'meanEducation', 'maritalStatus', 'plus',\n",
       "       ...\n",
       "       'attribute3_25', 'attribute3_27', 'attribute3_29', 'weekday_1',\n",
       "       'weekday_2', 'weekday_3', 'weekday_4', 'weekday_5', 'weekday_6',\n",
       "       'weekday_7'],\n",
       "      dtype='object', length=149)"
      ]
     },
     "execution_count": 14,
     "metadata": {},
     "output_type": "execute_result"
    }
   ],
   "source": [
    "test_data.columns"
   ]
  },
  {
   "cell_type": "markdown",
   "id": "a34b55d3",
   "metadata": {},
   "source": [
    "# Step 6: Checking data pattern of Sales"
   ]
  },
  {
   "cell_type": "code",
   "execution_count": 15,
   "id": "c93c5949",
   "metadata": {
    "scrolled": false
   },
   "outputs": [
    {
     "data": {
      "image/png": "[encoded data removed]",
      "text/plain": [
       "<Figure size 1000x1000 with 1 Axes>"
      ]
     },
     "metadata": {},
     "output_type": "display_data"
    }
   ],
   "source": [
    "plt.figure(figsize=(10, 10))\n",
    "sales_frequency = train_data['sales'].value_counts()\n",
    "sales_frequency.plot(kind='bar')\n",
    "plt.title('Frequency of Sales Values')\n",
    "plt.xlabel('Sales')\n",
    "plt.ylabel('Frequency')\n",
    "plt.grid(axis='y')\n",
    "plt.xticks(range(0, len(sales_frequency), 5), sales_frequency.index[::5])\n",
    "plt.show()"
   ]
  },
  {
   "cell_type": "code",
   "execution_count": 16,
   "id": "faa8db67",
   "metadata": {},
   "outputs": [
    {
     "data": {
      "image/png": "[encoded data removed]",
      "text/plain": [
       "<Figure size 640x480 with 1 Axes>"
      ]
     },
     "metadata": {},
     "output_type": "display_data"
    }
   ],
   "source": [
    "from scipy.stats import probplot\n",
    "probplot(train_data['sales'], dist='norm', sparams=(1,), plot=plt)\n",
    "plt.title('QQ Plot of Sales (Normal Distribution)')\n",
    "plt.show()"
   ]
  },
  {
   "cell_type": "markdown",
   "id": "5aca767d",
   "metadata": {},
   "source": [
    "From the graph and QQ Plot, we can see that sales does not follow a normal distribution but rather seems to fit a distribution similar to exponential or lognormal."
   ]
  },
  {
   "cell_type": "code",
   "execution_count": 17,
   "id": "e33220f9",
   "metadata": {},
   "outputs": [
    {
     "data": {
      "image/png": "[encoded data removed]",
      "text/plain": [
       "<Figure size 640x480 with 1 Axes>"
      ]
     },
     "metadata": {},
     "output_type": "display_data"
    }
   ],
   "source": [
    "probplot(train_data['sales'], dist='expon', sparams=(1,), plot=plt)\n",
    "plt.title('QQ Plot of Sales (Exponential Distribution)')\n",
    "plt.show()"
   ]
  },
  {
   "cell_type": "code",
   "execution_count": 18,
   "id": "d6372185",
   "metadata": {},
   "outputs": [
    {
     "data": {
      "image/png": "[encoded data removed]",
      "text/plain": [
       "<Figure size 640x480 with 1 Axes>"
      ]
     },
     "metadata": {},
     "output_type": "display_data"
    }
   ],
   "source": [
    "probplot(train_data['sales'], dist='lognorm', sparams=(1,), plot=plt)\n",
    "plt.title('QQ Plot of Sales (Lognormal Distribution)')\n",
    "plt.show()"
   ]
  },
  {
   "cell_type": "markdown",
   "id": "955a6e1b",
   "metadata": {},
   "source": [
    "Comparing the two distribution, lognormal distribution is likely to be a better fit than exponential. To confirm, we plot a QQplot for log-sales."
   ]
  },
  {
   "cell_type": "code",
   "execution_count": 19,
   "id": "65b67fd0",
   "metadata": {},
   "outputs": [
    {
     "data": {
      "image/png": "[encoded data removed]",
      "text/plain": [
       "<Figure size 640x480 with 1 Axes>"
      ]
     },
     "metadata": {},
     "output_type": "display_data"
    }
   ],
   "source": [
    "logsales = np.log(train_data.sales)\n",
    "probplot(logsales, dist='norm', sparams=(1,), plot=plt)\n",
    "plt.title('QQ Plot of Log-sales (Normal Distribution)')\n",
    "plt.show()"
   ]
  },
  {
   "cell_type": "markdown",
   "id": "131572a3",
   "metadata": {},
   "source": [
    "As such, we conclude that the sales follow a lognormal distribution."
   ]
  },
  {
   "cell_type": "markdown",
   "id": "86e24eac",
   "metadata": {},
   "source": [
    "# Step 7: Preparation of training and test data"
   ]
  },
  {
   "cell_type": "code",
   "execution_count": 20,
   "id": "a1eaf395",
   "metadata": {},
   "outputs": [],
   "source": [
    "train_X_cat = train_data.drop('sales',axis=1)\n",
    "\n",
    "train_X_num = original_train_data.drop('sales',axis=1)\n",
    "\n",
    "train_y_sales = train_data.sales\n",
    "\n",
    "train_y_logsales = logsales\n",
    "\n",
    "test_X_cat = test_data\n",
    "\n",
    "test_X_num = original_test_data"
   ]
  },
  {
   "cell_type": "markdown",
   "id": "2d0f2d8b",
   "metadata": {},
   "source": [
    "# Step 8: Refitting data columns in data set"
   ]
  },
  {
   "cell_type": "code",
   "execution_count": 21,
   "id": "c427ebcf",
   "metadata": {},
   "outputs": [],
   "source": [
    "for column in train_X_cat.columns:\n",
    "    if column not in test_X_cat.columns:\n",
    "        position = list(train_X_cat.columns).index(column)\n",
    "        test_data.insert(position, column, pd.Series([0] * len(test_X_cat)))\n",
    "\n",
    "for column in test_X_cat.columns:\n",
    "    if column not in train_X_cat.columns:\n",
    "        position = list(test_X_cat.columns).index(column)\n",
    "        train_X_cat.insert(position, column, pd.Series([0] * len(train_X_cat)))"
   ]
  },
  {
   "cell_type": "markdown",
   "id": "bccbe9ea",
   "metadata": {},
   "source": [
    "# Step 9: Standardisation"
   ]
  },
  {
   "cell_type": "code",
   "execution_count": 22,
   "id": "a0ec0beb",
   "metadata": {},
   "outputs": [],
   "source": [
    "ss=StandardScaler(with_mean=False)\n",
    "\n",
    "train_X_cat_stan = ss.fit_transform(train_X_cat)\n",
    "train_X_cat_stan = pd.DataFrame(train_X_cat_stan,columns=train_X_cat.columns)\n",
    "\n",
    "train_X_num_stan = ss.fit_transform(train_X_num)\n",
    "train_X_num_stan = pd.DataFrame(train_X_num_stan,columns=train_X_num.columns)\n",
    "\n",
    "test_X_cat_stan = ss.fit_transform(test_X_cat)\n",
    "test_X_cat_stan = pd.DataFrame(test_X_cat_stan,columns=test_X_cat.columns)\n",
    "\n",
    "test_X_num_stan = ss.fit_transform(test_X_num)\n",
    "test_X_num_stan = pd.DataFrame(test_X_num_stan,columns=test_X_num.columns)"
   ]
  },
  {
   "cell_type": "markdown",
   "id": "2e0cfaec",
   "metadata": {},
   "source": [
    "# Step 10: Export data to CSV files"
   ]
  },
  {
   "cell_type": "code",
   "execution_count": 23,
   "id": "80304d6c",
   "metadata": {},
   "outputs": [],
   "source": [
    "train_X_cat.to_csv('train_X_cat.csv')\n",
    "\n",
    "train_X_num.to_csv('train_X_num.csv')\n",
    "\n",
    "train_X_cat_stan.to_csv('train_X_cat_stan.csv')\n",
    "\n",
    "train_X_num_stan.to_csv('train_X_num_stan.csv')\n",
    "\n",
    "train_y_sales.to_csv('train_y_sales.csv')\n",
    "\n",
    "train_y_logsales.to_csv('train_y_logsales.csv')\n",
    "\n",
    "test_X_cat.to_csv('test_X_cat.csv')\n",
    "\n",
    "test_X_num.to_csv('test_X_num.csv')\n",
    "        \n",
    "test_X_cat_stan.to_csv('test_X_cat_stan.csv')\n",
    "\n",
    "test_X_num_stan.to_csv('test_X_num_stan.csv')"
   ]
  },
  {
   "cell_type": "code",
   "execution_count": 24,
   "id": "d105e783",
   "metadata": {},
   "outputs": [
    {
     "data": {
      "text/html": [
       "<div>\n",
       "<style scoped>\n",
       "    .dataframe tbody tr th:only-of-type {\n",
       "        vertical-align: middle;\n",
       "    }\n",
       "\n",
       "    .dataframe tbody tr th {\n",
       "        vertical-align: top;\n",
       "    }\n",
       "\n",
       "    .dataframe thead th {\n",
       "        text-align: right;\n",
       "    }\n",
       "</style>\n",
       "<table border=\"1\" class=\"dataframe\">\n",
       "  <thead>\n",
       "    <tr style=\"text-align: right;\">\n",
       "      <th></th>\n",
       "      <th>productID</th>\n",
       "      <th>brandID</th>\n",
       "      <th>attribute1</th>\n",
       "      <th>attribute2</th>\n",
       "      <th>attribute3</th>\n",
       "      <th>attribute4</th>\n",
       "      <th>clickVolume</th>\n",
       "      <th>avgOriginalUnitPrice</th>\n",
       "      <th>avgFinalUnitPrice</th>\n",
       "      <th>ma14SalesVolume</th>\n",
       "      <th>weekday</th>\n",
       "      <th>meanAge</th>\n",
       "      <th>gender</th>\n",
       "      <th>meanEducation</th>\n",
       "      <th>maritalStatus</th>\n",
       "      <th>plus</th>\n",
       "      <th>meanPurchasePower</th>\n",
       "      <th>meanUserLevel</th>\n",
       "      <th>meanCityLevel</th>\n",
       "    </tr>\n",
       "  </thead>\n",
       "  <tbody>\n",
       "    <tr>\n",
       "      <th>0</th>\n",
       "      <td>68</td>\n",
       "      <td>28</td>\n",
       "      <td>3.0</td>\n",
       "      <td>100.0</td>\n",
       "      <td>9</td>\n",
       "      <td>1.561599</td>\n",
       "      <td>799.0</td>\n",
       "      <td>237.206500</td>\n",
       "      <td>186.956968</td>\n",
       "      <td>11.785714</td>\n",
       "      <td>4</td>\n",
       "      <td>35.498327</td>\n",
       "      <td>0.114401</td>\n",
       "      <td>3.046749</td>\n",
       "      <td>0.562923</td>\n",
       "      <td>0.206291</td>\n",
       "      <td>2.173474</td>\n",
       "      <td>3.628150</td>\n",
       "      <td>2.181482</td>\n",
       "    </tr>\n",
       "    <tr>\n",
       "      <th>1</th>\n",
       "      <td>31</td>\n",
       "      <td>6</td>\n",
       "      <td>3.0</td>\n",
       "      <td>100.0</td>\n",
       "      <td>2</td>\n",
       "      <td>7.747685</td>\n",
       "      <td>352.0</td>\n",
       "      <td>178.540538</td>\n",
       "      <td>129.123143</td>\n",
       "      <td>25.785714</td>\n",
       "      <td>7</td>\n",
       "      <td>25.633478</td>\n",
       "      <td>0.000000</td>\n",
       "      <td>3.005766</td>\n",
       "      <td>0.000000</td>\n",
       "      <td>0.444095</td>\n",
       "      <td>1.927769</td>\n",
       "      <td>3.058834</td>\n",
       "      <td>1.511026</td>\n",
       "    </tr>\n",
       "    <tr>\n",
       "      <th>2</th>\n",
       "      <td>27</td>\n",
       "      <td>19</td>\n",
       "      <td>3.0</td>\n",
       "      <td>60.0</td>\n",
       "      <td>2</td>\n",
       "      <td>3.899665</td>\n",
       "      <td>293.0</td>\n",
       "      <td>119.066221</td>\n",
       "      <td>59.136199</td>\n",
       "      <td>21.357143</td>\n",
       "      <td>6</td>\n",
       "      <td>32.228120</td>\n",
       "      <td>0.158911</td>\n",
       "      <td>2.935705</td>\n",
       "      <td>0.293093</td>\n",
       "      <td>0.132959</td>\n",
       "      <td>2.324772</td>\n",
       "      <td>2.650857</td>\n",
       "      <td>1.665037</td>\n",
       "    </tr>\n",
       "    <tr>\n",
       "      <th>3</th>\n",
       "      <td>52</td>\n",
       "      <td>4</td>\n",
       "      <td>3.0</td>\n",
       "      <td>80.0</td>\n",
       "      <td>1</td>\n",
       "      <td>1.585429</td>\n",
       "      <td>537.0</td>\n",
       "      <td>139.452545</td>\n",
       "      <td>68.572100</td>\n",
       "      <td>7.285714</td>\n",
       "      <td>5</td>\n",
       "      <td>29.304317</td>\n",
       "      <td>0.186522</td>\n",
       "      <td>2.810752</td>\n",
       "      <td>0.242181</td>\n",
       "      <td>0.000000</td>\n",
       "      <td>2.192938</td>\n",
       "      <td>2.026259</td>\n",
       "      <td>2.481082</td>\n",
       "    </tr>\n",
       "    <tr>\n",
       "      <th>4</th>\n",
       "      <td>3</td>\n",
       "      <td>28</td>\n",
       "      <td>3.0</td>\n",
       "      <td>100.0</td>\n",
       "      <td>14</td>\n",
       "      <td>4.623051</td>\n",
       "      <td>6668.0</td>\n",
       "      <td>298.106532</td>\n",
       "      <td>244.047761</td>\n",
       "      <td>296.214286</td>\n",
       "      <td>5</td>\n",
       "      <td>29.132081</td>\n",
       "      <td>0.300183</td>\n",
       "      <td>3.032527</td>\n",
       "      <td>0.391279</td>\n",
       "      <td>0.103062</td>\n",
       "      <td>2.135294</td>\n",
       "      <td>2.736957</td>\n",
       "      <td>1.979200</td>\n",
       "    </tr>\n",
       "  </tbody>\n",
       "</table>\n",
       "</div>"
      ],
      "text/plain": [
       "   productID  brandID  attribute1  attribute2  attribute3  attribute4  \\\n",
       "0         68       28         3.0       100.0           9    1.561599   \n",
       "1         31        6         3.0       100.0           2    7.747685   \n",
       "2         27       19         3.0        60.0           2    3.899665   \n",
       "3         52        4         3.0        80.0           1    1.585429   \n",
       "4          3       28         3.0       100.0          14    4.623051   \n",
       "\n",
       "   clickVolume  avgOriginalUnitPrice  avgFinalUnitPrice  ma14SalesVolume  \\\n",
       "0        799.0            237.206500         186.956968        11.785714   \n",
       "1        352.0            178.540538         129.123143        25.785714   \n",
       "2        293.0            119.066221          59.136199        21.357143   \n",
       "3        537.0            139.452545          68.572100         7.285714   \n",
       "4       6668.0            298.106532         244.047761       296.214286   \n",
       "\n",
       "   weekday    meanAge    gender  meanEducation  maritalStatus      plus  \\\n",
       "0        4  35.498327  0.114401       3.046749       0.562923  0.206291   \n",
       "1        7  25.633478  0.000000       3.005766       0.000000  0.444095   \n",
       "2        6  32.228120  0.158911       2.935705       0.293093  0.132959   \n",
       "3        5  29.304317  0.186522       2.810752       0.242181  0.000000   \n",
       "4        5  29.132081  0.300183       3.032527       0.391279  0.103062   \n",
       "\n",
       "   meanPurchasePower  meanUserLevel  meanCityLevel  \n",
       "0           2.173474       3.628150       2.181482  \n",
       "1           1.927769       3.058834       1.511026  \n",
       "2           2.324772       2.650857       1.665037  \n",
       "3           2.192938       2.026259       2.481082  \n",
       "4           2.135294       2.736957       1.979200  "
      ]
     },
     "execution_count": 24,
     "metadata": {},
     "output_type": "execute_result"
    }
   ],
   "source": [
    "train_X_num.head()"
   ]
  },
  {
   "cell_type": "code",
   "execution_count": 25,
   "id": "cc266dcf",
   "metadata": {},
   "outputs": [
    {
     "data": {
      "text/html": [
       "<div>\n",
       "<style scoped>\n",
       "    .dataframe tbody tr th:only-of-type {\n",
       "        vertical-align: middle;\n",
       "    }\n",
       "\n",
       "    .dataframe tbody tr th {\n",
       "        vertical-align: top;\n",
       "    }\n",
       "\n",
       "    .dataframe thead th {\n",
       "        text-align: right;\n",
       "    }\n",
       "</style>\n",
       "<table border=\"1\" class=\"dataframe\">\n",
       "  <thead>\n",
       "    <tr style=\"text-align: right;\">\n",
       "      <th></th>\n",
       "      <th>attribute4</th>\n",
       "      <th>clickVolume</th>\n",
       "      <th>avgOriginalUnitPrice</th>\n",
       "      <th>avgFinalUnitPrice</th>\n",
       "      <th>ma14SalesVolume</th>\n",
       "      <th>meanAge</th>\n",
       "      <th>gender</th>\n",
       "      <th>meanEducation</th>\n",
       "      <th>maritalStatus</th>\n",
       "      <th>plus</th>\n",
       "      <th>...</th>\n",
       "      <th>attribute3_28</th>\n",
       "      <th>attribute3_27</th>\n",
       "      <th>attribute3_29</th>\n",
       "      <th>weekday_1</th>\n",
       "      <th>weekday_2</th>\n",
       "      <th>weekday_3</th>\n",
       "      <th>weekday_4</th>\n",
       "      <th>weekday_5</th>\n",
       "      <th>weekday_6</th>\n",
       "      <th>weekday_7</th>\n",
       "    </tr>\n",
       "  </thead>\n",
       "  <tbody>\n",
       "    <tr>\n",
       "      <th>0</th>\n",
       "      <td>1.561599</td>\n",
       "      <td>799.0</td>\n",
       "      <td>237.206500</td>\n",
       "      <td>186.956968</td>\n",
       "      <td>11.785714</td>\n",
       "      <td>35.498327</td>\n",
       "      <td>0.114401</td>\n",
       "      <td>3.046749</td>\n",
       "      <td>0.562923</td>\n",
       "      <td>0.206291</td>\n",
       "      <td>...</td>\n",
       "      <td>0.0</td>\n",
       "      <td>0</td>\n",
       "      <td>0</td>\n",
       "      <td>0.0</td>\n",
       "      <td>0.0</td>\n",
       "      <td>0.0</td>\n",
       "      <td>1.0</td>\n",
       "      <td>0.0</td>\n",
       "      <td>0.0</td>\n",
       "      <td>0.0</td>\n",
       "    </tr>\n",
       "    <tr>\n",
       "      <th>1</th>\n",
       "      <td>7.747685</td>\n",
       "      <td>352.0</td>\n",
       "      <td>178.540538</td>\n",
       "      <td>129.123143</td>\n",
       "      <td>25.785714</td>\n",
       "      <td>25.633478</td>\n",
       "      <td>0.000000</td>\n",
       "      <td>3.005766</td>\n",
       "      <td>0.000000</td>\n",
       "      <td>0.444095</td>\n",
       "      <td>...</td>\n",
       "      <td>0.0</td>\n",
       "      <td>0</td>\n",
       "      <td>0</td>\n",
       "      <td>0.0</td>\n",
       "      <td>0.0</td>\n",
       "      <td>0.0</td>\n",
       "      <td>0.0</td>\n",
       "      <td>0.0</td>\n",
       "      <td>0.0</td>\n",
       "      <td>1.0</td>\n",
       "    </tr>\n",
       "    <tr>\n",
       "      <th>2</th>\n",
       "      <td>3.899665</td>\n",
       "      <td>293.0</td>\n",
       "      <td>119.066221</td>\n",
       "      <td>59.136199</td>\n",
       "      <td>21.357143</td>\n",
       "      <td>32.228120</td>\n",
       "      <td>0.158911</td>\n",
       "      <td>2.935705</td>\n",
       "      <td>0.293093</td>\n",
       "      <td>0.132959</td>\n",
       "      <td>...</td>\n",
       "      <td>0.0</td>\n",
       "      <td>0</td>\n",
       "      <td>0</td>\n",
       "      <td>0.0</td>\n",
       "      <td>0.0</td>\n",
       "      <td>0.0</td>\n",
       "      <td>0.0</td>\n",
       "      <td>0.0</td>\n",
       "      <td>1.0</td>\n",
       "      <td>0.0</td>\n",
       "    </tr>\n",
       "    <tr>\n",
       "      <th>3</th>\n",
       "      <td>1.585429</td>\n",
       "      <td>537.0</td>\n",
       "      <td>139.452545</td>\n",
       "      <td>68.572100</td>\n",
       "      <td>7.285714</td>\n",
       "      <td>29.304317</td>\n",
       "      <td>0.186522</td>\n",
       "      <td>2.810752</td>\n",
       "      <td>0.242181</td>\n",
       "      <td>0.000000</td>\n",
       "      <td>...</td>\n",
       "      <td>0.0</td>\n",
       "      <td>0</td>\n",
       "      <td>0</td>\n",
       "      <td>0.0</td>\n",
       "      <td>0.0</td>\n",
       "      <td>0.0</td>\n",
       "      <td>0.0</td>\n",
       "      <td>1.0</td>\n",
       "      <td>0.0</td>\n",
       "      <td>0.0</td>\n",
       "    </tr>\n",
       "    <tr>\n",
       "      <th>4</th>\n",
       "      <td>4.623051</td>\n",
       "      <td>6668.0</td>\n",
       "      <td>298.106532</td>\n",
       "      <td>244.047761</td>\n",
       "      <td>296.214286</td>\n",
       "      <td>29.132081</td>\n",
       "      <td>0.300183</td>\n",
       "      <td>3.032527</td>\n",
       "      <td>0.391279</td>\n",
       "      <td>0.103062</td>\n",
       "      <td>...</td>\n",
       "      <td>0.0</td>\n",
       "      <td>0</td>\n",
       "      <td>0</td>\n",
       "      <td>0.0</td>\n",
       "      <td>0.0</td>\n",
       "      <td>0.0</td>\n",
       "      <td>0.0</td>\n",
       "      <td>1.0</td>\n",
       "      <td>0.0</td>\n",
       "      <td>0.0</td>\n",
       "    </tr>\n",
       "  </tbody>\n",
       "</table>\n",
       "<p>5 rows × 154 columns</p>\n",
       "</div>"
      ],
      "text/plain": [
       "   attribute4  clickVolume  avgOriginalUnitPrice  avgFinalUnitPrice  \\\n",
       "0    1.561599        799.0            237.206500         186.956968   \n",
       "1    7.747685        352.0            178.540538         129.123143   \n",
       "2    3.899665        293.0            119.066221          59.136199   \n",
       "3    1.585429        537.0            139.452545          68.572100   \n",
       "4    4.623051       6668.0            298.106532         244.047761   \n",
       "\n",
       "   ma14SalesVolume    meanAge    gender  meanEducation  maritalStatus  \\\n",
       "0        11.785714  35.498327  0.114401       3.046749       0.562923   \n",
       "1        25.785714  25.633478  0.000000       3.005766       0.000000   \n",
       "2        21.357143  32.228120  0.158911       2.935705       0.293093   \n",
       "3         7.285714  29.304317  0.186522       2.810752       0.242181   \n",
       "4       296.214286  29.132081  0.300183       3.032527       0.391279   \n",
       "\n",
       "       plus  ...  attribute3_28  attribute3_27  attribute3_29  weekday_1  \\\n",
       "0  0.206291  ...            0.0              0              0        0.0   \n",
       "1  0.444095  ...            0.0              0              0        0.0   \n",
       "2  0.132959  ...            0.0              0              0        0.0   \n",
       "3  0.000000  ...            0.0              0              0        0.0   \n",
       "4  0.103062  ...            0.0              0              0        0.0   \n",
       "\n",
       "   weekday_2  weekday_3  weekday_4  weekday_5  weekday_6  weekday_7  \n",
       "0        0.0        0.0        1.0        0.0        0.0        0.0  \n",
       "1        0.0        0.0        0.0        0.0        0.0        1.0  \n",
       "2        0.0        0.0        0.0        0.0        1.0        0.0  \n",
       "3        0.0        0.0        0.0        1.0        0.0        0.0  \n",
       "4        0.0        0.0        0.0        1.0        0.0        0.0  \n",
       "\n",
       "[5 rows x 154 columns]"
      ]
     },
     "execution_count": 25,
     "metadata": {},
     "output_type": "execute_result"
    }
   ],
   "source": [
    "train_X_cat.head()"
   ]
  },
  {
   "cell_type": "code",
   "execution_count": null,
   "id": "5e2d8fa6",
   "metadata": {},
   "outputs": [],
   "source": []
  }
 ],
 "metadata": {
  "kernelspec": {
   "display_name": "Python 3 (ipykernel)",
   "language": "python",
   "name": "python3"
  },
  "language_info": {
   "codemirror_mode": {
    "name": "ipython",
    "version": 3
   },
   "file_extension": ".py",
   "mimetype": "text/x-python",
   "name": "python",
   "nbconvert_exporter": "python",
   "pygments_lexer": "ipython3",
   "version": "3.10.9"
  }
 },
 "nbformat": 4,
 "nbformat_minor": 5
}
