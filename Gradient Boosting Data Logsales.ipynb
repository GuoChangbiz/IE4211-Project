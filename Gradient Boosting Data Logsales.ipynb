{
 "cells": [
  {
   "cell_type": "code",
   "execution_count": 1,
   "id": "89c4c047",
   "metadata": {},
   "outputs": [],
   "source": [
    "import pandas as pd\n",
    "import numpy as np\n",
    "import matplotlib.pyplot as plt\n",
    "from sklearn.metrics import mean_squared_error\n",
    "from sklearn.preprocessing import StandardScaler\n",
    "from sklearn.model_selection import KFold\n",
    "from sklearn.ensemble import GradientBoostingRegressor"
   ]
  },
  {
   "cell_type": "markdown",
   "id": "c647a639",
   "metadata": {},
   "source": [
    "# Data Processing"
   ]
  },
  {
   "cell_type": "code",
   "execution_count": 2,
   "id": "8689fe48",
   "metadata": {},
   "outputs": [],
   "source": [
    "train_X =pd.read_csv('train_X_cat.csv',index_col = 0)\n",
    "train_y_sales =pd.read_csv('train_y_sales.csv')\n",
    "train_y_sales = train_y_sales.sales\n",
    "train_y_logsales =pd.read_csv('train_y_logsales.csv',index_col = 0)\n",
    "train_y_logsales = train_y_logsales.sales"
   ]
  },
  {
   "cell_type": "markdown",
   "id": "ca07ab85",
   "metadata": {},
   "source": [
    "# Model Definition (Function)"
   ]
  },
  {
   "cell_type": "markdown",
   "id": "88bab838",
   "metadata": {},
   "source": [
    "Function is created to do k-fold (k=10) on the training data set based on different hyperparameters. Hyperparameters include the learning rate and n estimators."
   ]
  },
  {
   "cell_type": "code",
   "execution_count": 3,
   "id": "4e953e63",
   "metadata": {},
   "outputs": [],
   "source": [
    "from sklearn.model_selection import KFold\n",
    "def Data_KFold_MSE(X,Y,k,alpha,n):\n",
    "    kf = KFold(n_splits=k)\n",
    "    test_mse = []\n",
    "    for train_index, test_index in kf.split(X):\n",
    "        X_train, X_test = X.iloc[train_index], X.iloc[test_index]\n",
    "        y_train, y_test = Y.iloc[train_index], Y.iloc[test_index]\n",
    "\n",
    "        gbr = GradientBoostingRegressor(learning_rate=alpha, n_estimators=n, random_state = 8)\n",
    "        gbr.fit(X_train, y_train)\n",
    "        \n",
    "        y_pred = gbr.predict(X_test)\n",
    "        mse = mean_squared_error(np.exp(y_test), np.exp(y_pred))\n",
    "        test_mse.append(mse)\n",
    "\n",
    "    return np.mean(test_mse)"
   ]
  },
  {
   "cell_type": "markdown",
   "id": "d7e5b6e3",
   "metadata": {},
   "source": [
    "# Finding Best Hyperparameter"
   ]
  },
  {
   "cell_type": "code",
   "execution_count": 4,
   "id": "5a0fc406",
   "metadata": {},
   "outputs": [
    {
     "data": {
      "text/plain": [
       "[[0.001, 10, 7142.998226578546],\n",
       " [0.001, 100, 6998.480755582214],\n",
       " [0.001, 1000, 4807.948063505493],\n",
       " [0.01, 10, 6997.6597463280295],\n",
       " [0.01, 100, 4793.7295440783255],\n",
       " [0.01, 1000, 907.326765424103],\n",
       " [0.1, 10, 4649.810825533643],\n",
       " [0.1, 100, 900.8407039909378],\n",
       " [0.1, 1000, 861.9283467509513],\n",
       " [1, 10, 1041.8583315775809],\n",
       " [1, 100, 1897.4164069733633],\n",
       " [1, 1000, 2106.5672490608185]]"
      ]
     },
     "execution_count": 4,
     "metadata": {},
     "output_type": "execute_result"
    }
   ],
   "source": [
    "alpha = [0.001,0.01,0.1,1]\n",
    "n_est = [10,100,1000]\n",
    "MSE_logsales = []\n",
    "for i in alpha:\n",
    "    for r in n_est:\n",
    "        MSE_logsales.append([i,r,Data_KFold_MSE(train_X, train_y_logsales,10,i,r)])\n",
    "MSE_logsales"
   ]
  },
  {
   "cell_type": "code",
   "execution_count": 5,
   "id": "7523c988",
   "metadata": {},
   "outputs": [
    {
     "data": {
      "text/plain": [
       "[0.1, 1000, 861.9283467509513]"
      ]
     },
     "execution_count": 5,
     "metadata": {},
     "output_type": "execute_result"
    }
   ],
   "source": [
    "length = len(MSE_logsales)\n",
    "minimum = 100000\n",
    "best = [0,0,0]\n",
    "for i in range(length):\n",
    "    if MSE_logsales[i][2] < minimum:\n",
    "        minimum = MSE_logsales[i][2]\n",
    "        best = MSE_logsales[i]\n",
    "best"
   ]
  },
  {
   "cell_type": "code",
   "execution_count": 6,
   "id": "0fc409d9",
   "metadata": {},
   "outputs": [
    {
     "data": {
      "text/plain": [
       "[861.9283467509513,\n",
       " 865.7243649379336,\n",
       " 984.4036402185538,\n",
       " 1034.718170239858,\n",
       " 884.2942344010298,\n",
       " 1165.4048266326736,\n",
       " 1875.3227167696004,\n",
       " 1549.7255122856748,\n",
       " 1445.2728576988366]"
      ]
     },
     "execution_count": 6,
     "metadata": {},
     "output_type": "execute_result"
    }
   ],
   "source": [
    "# Based on the previous results, the best parameters are\n",
    "# learning_rate = 0.1\n",
    "# n_estimators = 1000\n",
    "# This step will determine the best learning within the range of the learning rate found\n",
    "alpha_logsales = [0.1,0.2,0.3,0.4,0.5,0.6,0.7,0.8,0.9]\n",
    "MSE_logsales = []\n",
    "for i in alpha_logsales:\n",
    "    MSE_logsales.append(Data_KFold_MSE(train_X, train_y_logsales,10,i,1000))\n",
    "MSE_logsales"
   ]
  },
  {
   "cell_type": "code",
   "execution_count": 7,
   "id": "3146876f",
   "metadata": {
    "scrolled": true
   },
   "outputs": [
    {
     "data": {
      "image/png": "[encoded data removed]",
      "text/plain": [
       "<Figure size 640x480 with 1 Axes>"
      ]
     },
     "metadata": {},
     "output_type": "display_data"
    }
   ],
   "source": [
    "# Plotting the MSE values for the alpha values tested\n",
    "plt.plot(alpha_logsales,MSE_logsales)\n",
    "plt.show()"
   ]
  },
  {
   "cell_type": "code",
   "execution_count": 8,
   "id": "692ce2af",
   "metadata": {},
   "outputs": [
    {
     "name": "stdout",
     "output_type": "stream",
     "text": [
      "0.1 861.9283467509513\n"
     ]
    }
   ],
   "source": [
    "print(alpha_logsales[np.argmin(MSE_logsales)],MSE_logsales[np.argmin(MSE_logsales)])"
   ]
  },
  {
   "cell_type": "markdown",
   "id": "959ae5b8",
   "metadata": {},
   "source": [
    "Hence the best hyperparameter is:\n",
    "1. Learning rate = 0.1\n",
    "2. n estimator = 1000\n",
    "\n",
    "Best MSE = 861.9283467509513"
   ]
  },
  {
   "cell_type": "code",
   "execution_count": 10,
   "id": "5def20f8",
   "metadata": {},
   "outputs": [
    {
     "data": {
      "text/plain": [
       "2.7861939324794442"
      ]
     },
     "execution_count": 10,
     "metadata": {},
     "output_type": "execute_result"
    }
   ],
   "source": [
    "# Using the entire training data set to train the model for predicting\n",
    "gbr = GradientBoostingRegressor(learning_rate=0.2, n_estimators=1000, random_state = 8)\n",
    "gbr.fit(train_X, train_y_logsales)\n",
    "\n",
    "# Testing the MSE of the new model using only training data\n",
    "y_pred = gbr.predict(train_X)\n",
    "mse = mean_squared_error(np.exp(train_y_logsales), np.exp(y_pred)) \n",
    "mse"
   ]
  },
  {
   "cell_type": "code",
   "execution_count": null,
   "id": "ff38a154",
   "metadata": {},
   "outputs": [],
   "source": []
  }
 ],
 "metadata": {
  "kernelspec": {
   "display_name": "Python 3 (ipykernel)",
   "language": "python",
   "name": "python3"
  },
  "language_info": {
   "codemirror_mode": {
    "name": "ipython",
    "version": 3
   },
   "file_extension": ".py",
   "mimetype": "text/x-python",
   "name": "python",
   "nbconvert_exporter": "python",
   "pygments_lexer": "ipython3",
   "version": "3.11.5"
  }
 },
 "nbformat": 4,
 "nbformat_minor": 5
}
